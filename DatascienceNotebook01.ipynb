{
 "metadata": {
  "name": "",
  "signature": "sha256:4c476063bc772c890100ef180c3810748ecfa10e35d1065fd9eab4f57769f8f2"
 },
 "nbformat": 3,
 "nbformat_minor": 0,
 "worksheets": [
  {
   "cells": [
    {
     "cell_type": "code",
     "collapsed": false,
     "input": [
      "import pandas as pd\n",
      "import numpy as np\n",
      "import matplotlib.pyplot as plt"
     ],
     "language": "python",
     "metadata": {},
     "outputs": [],
     "prompt_number": 103
    },
    {
     "cell_type": "code",
     "collapsed": false,
     "input": [
      "23 * 5"
     ],
     "language": "python",
     "metadata": {},
     "outputs": [
      {
       "metadata": {},
       "output_type": "pyout",
       "prompt_number": 1,
       "text": [
        "115"
       ]
      }
     ],
     "prompt_number": 1
    },
    {
     "cell_type": "code",
     "collapsed": false,
     "input": [
      "45 * 9"
     ],
     "language": "python",
     "metadata": {},
     "outputs": [
      {
       "metadata": {},
       "output_type": "pyout",
       "prompt_number": 2,
       "text": [
        "405"
       ]
      }
     ],
     "prompt_number": 2
    },
    {
     "cell_type": "code",
     "collapsed": false,
     "input": [
      "a = 11\n",
      "first = \"Savio\"\n",
      "last = \" Abuga\""
     ],
     "language": "python",
     "metadata": {},
     "outputs": [],
     "prompt_number": 5
    },
    {
     "cell_type": "code",
     "collapsed": false,
     "input": [
      "first + \" \" + last"
     ],
     "language": "python",
     "metadata": {},
     "outputs": [
      {
       "metadata": {},
       "output_type": "pyout",
       "prompt_number": 6,
       "text": [
        "'Savio  Abuga'"
       ]
      }
     ],
     "prompt_number": 6
    },
    {
     "cell_type": "code",
     "collapsed": false,
     "input": [
      "ls"
     ],
     "language": "python",
     "metadata": {},
     "outputs": [
      {
       "output_type": "stream",
       "stream": "stdout",
       "text": [
        "\u001b[34mApplications\u001b[m\u001b[m/                           \u001b[34mPictures\u001b[m\u001b[m/\r\n",
        "\u001b[34mDesktop\u001b[m\u001b[m/                                \u001b[34mPublic\u001b[m\u001b[m/\r\n",
        "\u001b[34mDocuments\u001b[m\u001b[m/                              \u001b[34mSites\u001b[m\u001b[m/\r\n",
        "\u001b[34mDownloads\u001b[m\u001b[m/                              \u001b[34mVirtualEnvs\u001b[m\u001b[m/\r\n",
        "\u001b[34mDropbox\u001b[m\u001b[m/                                \u001b[34mbin\u001b[m\u001b[m/\r\n",
        "Introduction to IPython Notebook.ipynb  \u001b[34mfloobits\u001b[m\u001b[m/\r\n",
        "\u001b[34mLibrary\u001b[m\u001b[m/                                lesson1.py\r\n",
        "\u001b[34mMovies\u001b[m\u001b[m/                                 npm-debug.log\r\n",
        "\u001b[34mMusic\u001b[m\u001b[m/\r\n"
       ]
      }
     ],
     "prompt_number": 7
    },
    {
     "cell_type": "code",
     "collapsed": false,
     "input": [
      "pwd"
     ],
     "language": "python",
     "metadata": {},
     "outputs": [
      {
       "metadata": {},
       "output_type": "pyout",
       "prompt_number": 8,
       "text": [
        "u'/Users/savioabuga'"
       ]
      }
     ],
     "prompt_number": 8
    },
    {
     "cell_type": "code",
     "collapsed": false,
     "input": [
      "# Define index and data as lists\n",
      "data1 = [33, 19, 15, 89, 11, -5, 9]\n",
      "index1 = ['Mon', 'Tue', 'Wed', 'Thu', 'Fri', 'Sat', 'Sun']"
     ],
     "language": "python",
     "metadata": {},
     "outputs": [],
     "prompt_number": 4
    },
    {
     "cell_type": "code",
     "collapsed": false,
     "input": [
      "# Create a series\n",
      "s2 = pd.Series(data1, index=index1)"
     ],
     "language": "python",
     "metadata": {},
     "outputs": [],
     "prompt_number": 6
    },
    {
     "cell_type": "code",
     "collapsed": false,
     "input": [
      "s2"
     ],
     "language": "python",
     "metadata": {},
     "outputs": [
      {
       "metadata": {},
       "output_type": "pyout",
       "prompt_number": 7,
       "text": [
        "Mon    33\n",
        "Tue    19\n",
        "Wed    15\n",
        "Thu    89\n",
        "Fri    11\n",
        "Sat    -5\n",
        "Sun     9\n",
        "dtype: int64"
       ]
      }
     ],
     "prompt_number": 7
    },
    {
     "cell_type": "code",
     "collapsed": false,
     "input": [
      "s2.index"
     ],
     "language": "python",
     "metadata": {},
     "outputs": [
      {
       "metadata": {},
       "output_type": "pyout",
       "prompt_number": 9,
       "text": [
        "Index([u'Mon', u'Tue', u'Wed', u'Thu', u'Fri', u'Sat', u'Sun'], dtype='object')"
       ]
      }
     ],
     "prompt_number": 9
    },
    {
     "cell_type": "code",
     "collapsed": false,
     "input": [
      "s2.name = 'Daily Temperatures'\n",
      "s2.index.name ='Weekday'"
     ],
     "language": "python",
     "metadata": {},
     "outputs": [],
     "prompt_number": 11
    },
    {
     "cell_type": "code",
     "collapsed": false,
     "input": [
      "s2"
     ],
     "language": "python",
     "metadata": {},
     "outputs": [
      {
       "metadata": {},
       "output_type": "pyout",
       "prompt_number": 12,
       "text": [
        "Weekday\n",
        "Mon        33\n",
        "Tue        19\n",
        "Wed        15\n",
        "Thu        89\n",
        "Fri        11\n",
        "Sat        -5\n",
        "Sun         9\n",
        "Name: Daily Temperatures, dtype: int64"
       ]
      }
     ],
     "prompt_number": 12
    },
    {
     "cell_type": "code",
     "collapsed": false,
     "input": [
      "data2 = [33, 19.8, 15, 89, 11, -5, 9]"
     ],
     "language": "python",
     "metadata": {},
     "outputs": [],
     "prompt_number": 13
    },
    {
     "cell_type": "code",
     "collapsed": false,
     "input": [
      "s3 = pd.Series(data2, index=index1)"
     ],
     "language": "python",
     "metadata": {},
     "outputs": [],
     "prompt_number": 16
    },
    {
     "cell_type": "code",
     "collapsed": false,
     "input": [
      "s3"
     ],
     "language": "python",
     "metadata": {},
     "outputs": [
      {
       "metadata": {},
       "output_type": "pyout",
       "prompt_number": 17,
       "text": [
        "Mon    33.0\n",
        "Tue    19.8\n",
        "Wed    15.0\n",
        "Thu    89.0\n",
        "Fri    11.0\n",
        "Sat    -5.0\n",
        "Sun     9.0\n",
        "dtype: float64"
       ]
      }
     ],
     "prompt_number": 17
    },
    {
     "cell_type": "code",
     "collapsed": false,
     "input": [
      "dict1 = {'Mon': 33, 'Tue': 19.8, 'Wed': 15, 'Thu': 89, 'Fri': 11, 'Sat': -5, 'Sun': 9}"
     ],
     "language": "python",
     "metadata": {},
     "outputs": [],
     "prompt_number": 18
    },
    {
     "cell_type": "code",
     "collapsed": false,
     "input": [
      "s4 = pd.Series(dict1)"
     ],
     "language": "python",
     "metadata": {},
     "outputs": [],
     "prompt_number": 19
    },
    {
     "cell_type": "code",
     "collapsed": false,
     "input": [
      "s4"
     ],
     "language": "python",
     "metadata": {},
     "outputs": [
      {
       "metadata": {},
       "output_type": "pyout",
       "prompt_number": 20,
       "text": [
        "Fri    11.0\n",
        "Mon    33.0\n",
        "Sat    -5.0\n",
        "Sun     9.0\n",
        "Thu    89.0\n",
        "Tue    19.8\n",
        "Wed    15.0\n",
        "dtype: float64"
       ]
      }
     ],
     "prompt_number": 20
    },
    {
     "cell_type": "markdown",
     "metadata": {},
     "source": [
      "<b>Series object behaving like a numpy ndarray</b>"
     ]
    },
    {
     "cell_type": "code",
     "collapsed": false,
     "input": [
      "# Vectorized operations\n",
      "np.log(s4)"
     ],
     "language": "python",
     "metadata": {},
     "outputs": [
      {
       "metadata": {},
       "output_type": "pyout",
       "prompt_number": 23,
       "text": [
        "Fri    2.397895\n",
        "Mon    3.496508\n",
        "Sat         NaN\n",
        "Sun    2.197225\n",
        "Thu    4.488636\n",
        "Tue    2.985682\n",
        "Wed    2.708050\n",
        "dtype: float64"
       ]
      }
     ],
     "prompt_number": 23
    },
    {
     "cell_type": "code",
     "collapsed": false,
     "input": [
      "# Do slicing using labels\n",
      "s4['Mon':'Sat'] "
     ],
     "language": "python",
     "metadata": {},
     "outputs": [
      {
       "metadata": {},
       "output_type": "pyout",
       "prompt_number": 25,
       "text": [
        "Mon    33\n",
        "Sat    -5\n",
        "dtype: float64"
       ]
      }
     ],
     "prompt_number": 25
    },
    {
     "cell_type": "code",
     "collapsed": false,
     "input": [
      "# Slicing using position\n",
      "s4[1:4]"
     ],
     "language": "python",
     "metadata": {},
     "outputs": [
      {
       "metadata": {},
       "output_type": "pyout",
       "prompt_number": 27,
       "text": [
        "Mon    33\n",
        "Sat    -5\n",
        "Sun     9\n",
        "dtype: float64"
       ]
      }
     ],
     "prompt_number": 27
    },
    {
     "cell_type": "code",
     "collapsed": false,
     "input": [
      "# Retrieve a value using an offset\n",
      "s4[1]"
     ],
     "language": "python",
     "metadata": {},
     "outputs": [
      {
       "metadata": {},
       "output_type": "pyout",
       "prompt_number": 28,
       "text": [
        "33.0"
       ]
      }
     ],
     "prompt_number": 28
    },
    {
     "cell_type": "code",
     "collapsed": false,
     "input": [
      "# set a value using offset\n",
      "s4[1] = 199"
     ],
     "language": "python",
     "metadata": {},
     "outputs": [],
     "prompt_number": 29
    },
    {
     "cell_type": "code",
     "collapsed": false,
     "input": [
      "s4"
     ],
     "language": "python",
     "metadata": {},
     "outputs": [
      {
       "metadata": {},
       "output_type": "pyout",
       "prompt_number": 30,
       "text": [
        "Fri     11.0\n",
        "Mon    199.0\n",
        "Sat     -5.0\n",
        "Sun      9.0\n",
        "Thu     89.0\n",
        "Tue     19.8\n",
        "Wed     15.0\n",
        "dtype: float64"
       ]
      }
     ],
     "prompt_number": 30
    },
    {
     "cell_type": "code",
     "collapsed": false,
     "input": [
      "s4.median()"
     ],
     "language": "python",
     "metadata": {},
     "outputs": [
      {
       "metadata": {},
       "output_type": "pyout",
       "prompt_number": 32,
       "text": [
        "15.0"
       ]
      }
     ],
     "prompt_number": 32
    },
    {
     "cell_type": "code",
     "collapsed": false,
     "input": [
      "# maximum\n",
      "s4.max()"
     ],
     "language": "python",
     "metadata": {},
     "outputs": [
      {
       "metadata": {},
       "output_type": "pyout",
       "prompt_number": 33,
       "text": [
        "199.0"
       ]
      }
     ],
     "prompt_number": 33
    },
    {
     "cell_type": "code",
     "collapsed": false,
     "input": [
      "# cummulative sum\n",
      "s4.cumsum()"
     ],
     "language": "python",
     "metadata": {},
     "outputs": [
      {
       "metadata": {},
       "output_type": "pyout",
       "prompt_number": 34,
       "text": [
        "Fri     11.0\n",
        "Mon    210.0\n",
        "Sat    205.0\n",
        "Sun    214.0\n",
        "Thu    303.0\n",
        "Tue    322.8\n",
        "Wed    337.8\n",
        "dtype: float64"
       ]
      }
     ],
     "prompt_number": 34
    },
    {
     "cell_type": "code",
     "collapsed": false,
     "input": [
      "# Looping over a collection\n",
      "for i,v in enumerate(s4):\n",
      "    print i, v"
     ],
     "language": "python",
     "metadata": {},
     "outputs": [
      {
       "output_type": "stream",
       "stream": "stdout",
       "text": [
        "0 11.0\n",
        "1 199.0\n",
        "2 -5.0\n",
        "3 9.0\n",
        "4 89.0\n",
        "5 19.8\n",
        "6 15.0\n"
       ]
      }
     ],
     "prompt_number": 36
    },
    {
     "cell_type": "code",
     "collapsed": false,
     "input": [
      "# Using list comprehension\n",
      "new_list = [x**2 for x in s4]"
     ],
     "language": "python",
     "metadata": {},
     "outputs": [],
     "prompt_number": 37
    },
    {
     "cell_type": "code",
     "collapsed": false,
     "input": [
      "new_list"
     ],
     "language": "python",
     "metadata": {},
     "outputs": [
      {
       "metadata": {},
       "output_type": "pyout",
       "prompt_number": 38,
       "text": [
        "[121.0, 39601.0, 25.0, 81.0, 7921.0, 392.04000000000002, 225.0]"
       ]
      }
     ],
     "prompt_number": 38
    },
    {
     "cell_type": "heading",
     "level": 2,
     "metadata": {},
     "source": [
      "Dict-like behaviour in Series object"
     ]
    },
    {
     "cell_type": "code",
     "collapsed": false,
     "input": [
      "#Check wether there is a key\n",
      "'sun' in s4"
     ],
     "language": "python",
     "metadata": {},
     "outputs": [
      {
       "metadata": {},
       "output_type": "pyout",
       "prompt_number": 39,
       "text": [
        "False"
       ]
      }
     ],
     "prompt_number": 39
    },
    {
     "cell_type": "code",
     "collapsed": false,
     "input": [
      "'Sun' in s4"
     ],
     "language": "python",
     "metadata": {},
     "outputs": [
      {
       "metadata": {},
       "output_type": "pyout",
       "prompt_number": 40,
       "text": [
        "True"
       ]
      }
     ],
     "prompt_number": 40
    },
    {
     "cell_type": "code",
     "collapsed": false,
     "input": [
      "s4['Sun']"
     ],
     "language": "python",
     "metadata": {},
     "outputs": [
      {
       "metadata": {},
       "output_type": "pyout",
       "prompt_number": 41,
       "text": [
        "9.0"
       ]
      }
     ],
     "prompt_number": 41
    },
    {
     "cell_type": "code",
     "collapsed": false,
     "input": [
      "# Assignement using a key\n",
      "s4['Tue'] = 200"
     ],
     "language": "python",
     "metadata": {},
     "outputs": [],
     "prompt_number": 42
    },
    {
     "cell_type": "code",
     "collapsed": false,
     "input": [
      "s4"
     ],
     "language": "python",
     "metadata": {},
     "outputs": [
      {
       "metadata": {},
       "output_type": "pyout",
       "prompt_number": 43,
       "text": [
        "Fri     11\n",
        "Mon    199\n",
        "Sat     -5\n",
        "Sun      9\n",
        "Thu     89\n",
        "Tue    200\n",
        "Wed     15\n",
        "dtype: float64"
       ]
      }
     ],
     "prompt_number": 43
    },
    {
     "cell_type": "code",
     "collapsed": false,
     "input": [
      "# Looping over keys items\n",
      "for k, v in s4.iteritems():\n",
      "    print k, v"
     ],
     "language": "python",
     "metadata": {},
     "outputs": [
      {
       "output_type": "stream",
       "stream": "stdout",
       "text": [
        "Fri 11.0\n",
        "Mon 199.0\n",
        "Sat -5.0\n",
        "Sun 9.0\n",
        "Thu 89.0\n",
        "Tue 200.0\n",
        "Wed 15.0\n"
       ]
      }
     ],
     "prompt_number": 44
    },
    {
     "cell_type": "markdown",
     "metadata": {},
     "source": [
      "<h2>Dataframe</h2>\n",
      "The work horse of pandas"
     ]
    },
    {
     "cell_type": "code",
     "collapsed": false,
     "input": [
      "import datetime"
     ],
     "language": "python",
     "metadata": {},
     "outputs": [],
     "prompt_number": 45
    },
    {
     "cell_type": "code",
     "collapsed": false,
     "input": [
      "# Create a list of dates\n",
      "dt = datetime.datetime(2013,12,1)\n",
      "end = datetime.datetime(2013,12,8)\n",
      "step = datetime.timedelta(days=1)\n",
      "dates = []"
     ],
     "language": "python",
     "metadata": {},
     "outputs": [],
     "prompt_number": 47
    },
    {
     "cell_type": "code",
     "collapsed": false,
     "input": [
      "while dt < end:\n",
      "    dates.append(dt.strftime('%m-%d'))\n",
      "    dt = dt + step"
     ],
     "language": "python",
     "metadata": {},
     "outputs": [],
     "prompt_number": 50
    },
    {
     "cell_type": "code",
     "collapsed": false,
     "input": [
      "dates"
     ],
     "language": "python",
     "metadata": {},
     "outputs": [
      {
       "metadata": {},
       "output_type": "pyout",
       "prompt_number": 51,
       "text": [
        "['12-01', '12-02', '12-03', '12-04', '12-05', '12-06', '12-07']"
       ]
      }
     ],
     "prompt_number": 51
    },
    {
     "cell_type": "code",
     "collapsed": false,
     "input": [
      "d = {'Dates': dates, 'Mumbai': [20, 18, 23, 19, 25, 27, 23], 'Paris': [-2, 0, 2, 5, 7, -5, -3], 'Tokyo': [15, 19, 15, 11, 9, 8, 13]}"
     ],
     "language": "python",
     "metadata": {},
     "outputs": [],
     "prompt_number": 52
    },
    {
     "cell_type": "code",
     "collapsed": false,
     "input": [
      "d"
     ],
     "language": "python",
     "metadata": {},
     "outputs": [
      {
       "metadata": {},
       "output_type": "pyout",
       "prompt_number": 53,
       "text": [
        "{'Dates': ['12-01', '12-02', '12-03', '12-04', '12-05', '12-06', '12-07'],\n",
        " 'Mumbai': [20, 18, 23, 19, 25, 27, 23],\n",
        " 'Paris': [-2, 0, 2, 5, 7, -5, -3],\n",
        " 'Tokyo': [15, 19, 15, 11, 9, 8, 13]}"
       ]
      }
     ],
     "prompt_number": 53
    },
    {
     "cell_type": "code",
     "collapsed": false,
     "input": [
      "temps = pd.DataFrame(d)"
     ],
     "language": "python",
     "metadata": {},
     "outputs": [],
     "prompt_number": 54
    },
    {
     "cell_type": "code",
     "collapsed": false,
     "input": [
      "temps"
     ],
     "language": "python",
     "metadata": {},
     "outputs": [
      {
       "html": [
        "<div style=\"max-height:1000px;max-width:1500px;overflow:auto;\">\n",
        "<table border=\"1\" class=\"dataframe\">\n",
        "  <thead>\n",
        "    <tr style=\"text-align: right;\">\n",
        "      <th></th>\n",
        "      <th>Dates</th>\n",
        "      <th>Mumbai</th>\n",
        "      <th>Paris</th>\n",
        "      <th>Tokyo</th>\n",
        "    </tr>\n",
        "  </thead>\n",
        "  <tbody>\n",
        "    <tr>\n",
        "      <th>0</th>\n",
        "      <td> 12-01</td>\n",
        "      <td> 20</td>\n",
        "      <td>-2</td>\n",
        "      <td> 15</td>\n",
        "    </tr>\n",
        "    <tr>\n",
        "      <th>1</th>\n",
        "      <td> 12-02</td>\n",
        "      <td> 18</td>\n",
        "      <td> 0</td>\n",
        "      <td> 19</td>\n",
        "    </tr>\n",
        "    <tr>\n",
        "      <th>2</th>\n",
        "      <td> 12-03</td>\n",
        "      <td> 23</td>\n",
        "      <td> 2</td>\n",
        "      <td> 15</td>\n",
        "    </tr>\n",
        "    <tr>\n",
        "      <th>3</th>\n",
        "      <td> 12-04</td>\n",
        "      <td> 19</td>\n",
        "      <td> 5</td>\n",
        "      <td> 11</td>\n",
        "    </tr>\n",
        "    <tr>\n",
        "      <th>4</th>\n",
        "      <td> 12-05</td>\n",
        "      <td> 25</td>\n",
        "      <td> 7</td>\n",
        "      <td>  9</td>\n",
        "    </tr>\n",
        "    <tr>\n",
        "      <th>5</th>\n",
        "      <td> 12-06</td>\n",
        "      <td> 27</td>\n",
        "      <td>-5</td>\n",
        "      <td>  8</td>\n",
        "    </tr>\n",
        "    <tr>\n",
        "      <th>6</th>\n",
        "      <td> 12-07</td>\n",
        "      <td> 23</td>\n",
        "      <td>-3</td>\n",
        "      <td> 13</td>\n",
        "    </tr>\n",
        "  </tbody>\n",
        "</table>\n",
        "</div>"
       ],
       "metadata": {},
       "output_type": "pyout",
       "prompt_number": 55,
       "text": [
        "   Dates  Mumbai  Paris  Tokyo\n",
        "0  12-01      20     -2     15\n",
        "1  12-02      18      0     19\n",
        "2  12-03      23      2     15\n",
        "3  12-04      19      5     11\n",
        "4  12-05      25      7      9\n",
        "5  12-06      27     -5      8\n",
        "6  12-07      23     -3     13"
       ]
      }
     ],
     "prompt_number": 55
    },
    {
     "cell_type": "code",
     "collapsed": false,
     "input": [
      "temps.Mumbai"
     ],
     "language": "python",
     "metadata": {},
     "outputs": [
      {
       "metadata": {},
       "output_type": "pyout",
       "prompt_number": 56,
       "text": [
        "0    20\n",
        "1    18\n",
        "2    23\n",
        "3    19\n",
        "4    25\n",
        "5    27\n",
        "6    23\n",
        "Name: Mumbai, dtype: int64"
       ]
      }
     ],
     "prompt_number": 56
    },
    {
     "cell_type": "code",
     "collapsed": false,
     "input": [
      "type(temps['Mumbai'])"
     ],
     "language": "python",
     "metadata": {},
     "outputs": [
      {
       "metadata": {},
       "output_type": "pyout",
       "prompt_number": 58,
       "text": [
        "pandas.core.series.Series"
       ]
      }
     ],
     "prompt_number": 58
    },
    {
     "cell_type": "code",
     "collapsed": false,
     "input": [
      "temps"
     ],
     "language": "python",
     "metadata": {},
     "outputs": [
      {
       "html": [
        "<div style=\"max-height:1000px;max-width:1500px;overflow:auto;\">\n",
        "<table border=\"1\" class=\"dataframe\">\n",
        "  <thead>\n",
        "    <tr style=\"text-align: right;\">\n",
        "      <th></th>\n",
        "      <th>Dates</th>\n",
        "      <th>Mumbai</th>\n",
        "      <th>Paris</th>\n",
        "      <th>Tokyo</th>\n",
        "    </tr>\n",
        "  </thead>\n",
        "  <tbody>\n",
        "    <tr>\n",
        "      <th>0</th>\n",
        "      <td> 12-01</td>\n",
        "      <td> 20</td>\n",
        "      <td>-2</td>\n",
        "      <td> 15</td>\n",
        "    </tr>\n",
        "    <tr>\n",
        "      <th>1</th>\n",
        "      <td> 12-02</td>\n",
        "      <td> 18</td>\n",
        "      <td> 0</td>\n",
        "      <td> 19</td>\n",
        "    </tr>\n",
        "    <tr>\n",
        "      <th>2</th>\n",
        "      <td> 12-03</td>\n",
        "      <td> 23</td>\n",
        "      <td> 2</td>\n",
        "      <td> 15</td>\n",
        "    </tr>\n",
        "    <tr>\n",
        "      <th>3</th>\n",
        "      <td> 12-04</td>\n",
        "      <td> 19</td>\n",
        "      <td> 5</td>\n",
        "      <td> 11</td>\n",
        "    </tr>\n",
        "    <tr>\n",
        "      <th>4</th>\n",
        "      <td> 12-05</td>\n",
        "      <td> 25</td>\n",
        "      <td> 7</td>\n",
        "      <td>  9</td>\n",
        "    </tr>\n",
        "    <tr>\n",
        "      <th>5</th>\n",
        "      <td> 12-06</td>\n",
        "      <td> 27</td>\n",
        "      <td>-5</td>\n",
        "      <td>  8</td>\n",
        "    </tr>\n",
        "    <tr>\n",
        "      <th>6</th>\n",
        "      <td> 12-07</td>\n",
        "      <td> 23</td>\n",
        "      <td>-3</td>\n",
        "      <td> 13</td>\n",
        "    </tr>\n",
        "  </tbody>\n",
        "</table>\n",
        "</div>"
       ],
       "metadata": {},
       "output_type": "pyout",
       "prompt_number": 59,
       "text": [
        "   Dates  Mumbai  Paris  Tokyo\n",
        "0  12-01      20     -2     15\n",
        "1  12-02      18      0     19\n",
        "2  12-03      23      2     15\n",
        "3  12-04      19      5     11\n",
        "4  12-05      25      7      9\n",
        "5  12-06      27     -5      8\n",
        "6  12-07      23     -3     13"
       ]
      }
     ],
     "prompt_number": 59
    },
    {
     "cell_type": "code",
     "collapsed": false,
     "input": [
      "temps = temps.set_index('Dates')"
     ],
     "language": "python",
     "metadata": {},
     "outputs": [],
     "prompt_number": 60
    },
    {
     "cell_type": "code",
     "collapsed": false,
     "input": [
      "temps"
     ],
     "language": "python",
     "metadata": {},
     "outputs": [
      {
       "html": [
        "<div style=\"max-height:1000px;max-width:1500px;overflow:auto;\">\n",
        "<table border=\"1\" class=\"dataframe\">\n",
        "  <thead>\n",
        "    <tr style=\"text-align: right;\">\n",
        "      <th></th>\n",
        "      <th>Mumbai</th>\n",
        "      <th>Paris</th>\n",
        "      <th>Tokyo</th>\n",
        "    </tr>\n",
        "    <tr>\n",
        "      <th>Dates</th>\n",
        "      <th></th>\n",
        "      <th></th>\n",
        "      <th></th>\n",
        "    </tr>\n",
        "  </thead>\n",
        "  <tbody>\n",
        "    <tr>\n",
        "      <th>12-01</th>\n",
        "      <td> 20</td>\n",
        "      <td>-2</td>\n",
        "      <td> 15</td>\n",
        "    </tr>\n",
        "    <tr>\n",
        "      <th>12-02</th>\n",
        "      <td> 18</td>\n",
        "      <td> 0</td>\n",
        "      <td> 19</td>\n",
        "    </tr>\n",
        "    <tr>\n",
        "      <th>12-03</th>\n",
        "      <td> 23</td>\n",
        "      <td> 2</td>\n",
        "      <td> 15</td>\n",
        "    </tr>\n",
        "    <tr>\n",
        "      <th>12-04</th>\n",
        "      <td> 19</td>\n",
        "      <td> 5</td>\n",
        "      <td> 11</td>\n",
        "    </tr>\n",
        "    <tr>\n",
        "      <th>12-05</th>\n",
        "      <td> 25</td>\n",
        "      <td> 7</td>\n",
        "      <td>  9</td>\n",
        "    </tr>\n",
        "    <tr>\n",
        "      <th>12-06</th>\n",
        "      <td> 27</td>\n",
        "      <td>-5</td>\n",
        "      <td>  8</td>\n",
        "    </tr>\n",
        "    <tr>\n",
        "      <th>12-07</th>\n",
        "      <td> 23</td>\n",
        "      <td>-3</td>\n",
        "      <td> 13</td>\n",
        "    </tr>\n",
        "  </tbody>\n",
        "</table>\n",
        "</div>"
       ],
       "metadata": {},
       "output_type": "pyout",
       "prompt_number": 61,
       "text": [
        "       Mumbai  Paris  Tokyo\n",
        "Dates                      \n",
        "12-01      20     -2     15\n",
        "12-02      18      0     19\n",
        "12-03      23      2     15\n",
        "12-04      19      5     11\n",
        "12-05      25      7      9\n",
        "12-06      27     -5      8\n",
        "12-07      23     -3     13"
       ]
      }
     ],
     "prompt_number": 61
    },
    {
     "cell_type": "heading",
     "level": 3,
     "metadata": {},
     "source": [
      "Creating a dataframe from passengers on the titanic"
     ]
    },
    {
     "cell_type": "code",
     "collapsed": false,
     "input": [
      "titanic = pd.read_csv(\"/Users/savioabuga/Documents/DataScience/titanic_data.csv\")"
     ],
     "language": "python",
     "metadata": {},
     "outputs": [],
     "prompt_number": 62
    },
    {
     "cell_type": "code",
     "collapsed": false,
     "input": [
      "# Check first few rows\n",
      "titanic.head()\n"
     ],
     "language": "python",
     "metadata": {},
     "outputs": [
      {
       "html": [
        "<div style=\"max-height:1000px;max-width:1500px;overflow:auto;\">\n",
        "<table border=\"1\" class=\"dataframe\">\n",
        "  <thead>\n",
        "    <tr style=\"text-align: right;\">\n",
        "      <th></th>\n",
        "      <th>PassengerId</th>\n",
        "      <th>Survived</th>\n",
        "      <th>Pclass</th>\n",
        "      <th>Name</th>\n",
        "      <th>Sex</th>\n",
        "      <th>Age</th>\n",
        "      <th>SibSp</th>\n",
        "      <th>Parch</th>\n",
        "      <th>Ticket</th>\n",
        "      <th>Fare</th>\n",
        "      <th>Cabin</th>\n",
        "      <th>Embarked</th>\n",
        "    </tr>\n",
        "  </thead>\n",
        "  <tbody>\n",
        "    <tr>\n",
        "      <th>0</th>\n",
        "      <td> 1</td>\n",
        "      <td> 0</td>\n",
        "      <td> 3</td>\n",
        "      <td>                           Braund, Mr. Owen Harris</td>\n",
        "      <td>   male</td>\n",
        "      <td> 22</td>\n",
        "      <td> 1</td>\n",
        "      <td> 0</td>\n",
        "      <td>        A/5 21171</td>\n",
        "      <td>  7.2500</td>\n",
        "      <td>  NaN</td>\n",
        "      <td> S</td>\n",
        "    </tr>\n",
        "    <tr>\n",
        "      <th>1</th>\n",
        "      <td> 2</td>\n",
        "      <td> 1</td>\n",
        "      <td> 1</td>\n",
        "      <td> Cumings, Mrs. John Bradley (Florence Briggs Th...</td>\n",
        "      <td> female</td>\n",
        "      <td> 38</td>\n",
        "      <td> 1</td>\n",
        "      <td> 0</td>\n",
        "      <td>         PC 17599</td>\n",
        "      <td> 71.2833</td>\n",
        "      <td>  C85</td>\n",
        "      <td> C</td>\n",
        "    </tr>\n",
        "    <tr>\n",
        "      <th>2</th>\n",
        "      <td> 3</td>\n",
        "      <td> 1</td>\n",
        "      <td> 3</td>\n",
        "      <td>                            Heikkinen, Miss. Laina</td>\n",
        "      <td> female</td>\n",
        "      <td> 26</td>\n",
        "      <td> 0</td>\n",
        "      <td> 0</td>\n",
        "      <td> STON/O2. 3101282</td>\n",
        "      <td>  7.9250</td>\n",
        "      <td>  NaN</td>\n",
        "      <td> S</td>\n",
        "    </tr>\n",
        "    <tr>\n",
        "      <th>3</th>\n",
        "      <td> 4</td>\n",
        "      <td> 1</td>\n",
        "      <td> 1</td>\n",
        "      <td>      Futrelle, Mrs. Jacques Heath (Lily May Peel)</td>\n",
        "      <td> female</td>\n",
        "      <td> 35</td>\n",
        "      <td> 1</td>\n",
        "      <td> 0</td>\n",
        "      <td>           113803</td>\n",
        "      <td> 53.1000</td>\n",
        "      <td> C123</td>\n",
        "      <td> S</td>\n",
        "    </tr>\n",
        "    <tr>\n",
        "      <th>4</th>\n",
        "      <td> 5</td>\n",
        "      <td> 0</td>\n",
        "      <td> 3</td>\n",
        "      <td>                          Allen, Mr. William Henry</td>\n",
        "      <td>   male</td>\n",
        "      <td> 35</td>\n",
        "      <td> 0</td>\n",
        "      <td> 0</td>\n",
        "      <td>           373450</td>\n",
        "      <td>  8.0500</td>\n",
        "      <td>  NaN</td>\n",
        "      <td> S</td>\n",
        "    </tr>\n",
        "  </tbody>\n",
        "</table>\n",
        "</div>"
       ],
       "metadata": {},
       "output_type": "pyout",
       "prompt_number": 65,
       "text": [
        "   PassengerId  Survived  Pclass  \\\n",
        "0            1         0       3   \n",
        "1            2         1       1   \n",
        "2            3         1       3   \n",
        "3            4         1       1   \n",
        "4            5         0       3   \n",
        "\n",
        "                                                Name     Sex  Age  SibSp  \\\n",
        "0                            Braund, Mr. Owen Harris    male   22      1   \n",
        "1  Cumings, Mrs. John Bradley (Florence Briggs Th...  female   38      1   \n",
        "2                             Heikkinen, Miss. Laina  female   26      0   \n",
        "3       Futrelle, Mrs. Jacques Heath (Lily May Peel)  female   35      1   \n",
        "4                           Allen, Mr. William Henry    male   35      0   \n",
        "\n",
        "   Parch            Ticket     Fare Cabin Embarked  \n",
        "0      0         A/5 21171   7.2500   NaN        S  \n",
        "1      0          PC 17599  71.2833   C85        C  \n",
        "2      0  STON/O2. 3101282   7.9250   NaN        S  \n",
        "3      0            113803  53.1000  C123        S  \n",
        "4      0            373450   8.0500   NaN        S  "
       ]
      }
     ],
     "prompt_number": 65
    },
    {
     "cell_type": "code",
     "collapsed": false,
     "input": [
      "# Check last few rows\n",
      "titanic.tail()"
     ],
     "language": "python",
     "metadata": {},
     "outputs": [
      {
       "html": [
        "<div style=\"max-height:1000px;max-width:1500px;overflow:auto;\">\n",
        "<table border=\"1\" class=\"dataframe\">\n",
        "  <thead>\n",
        "    <tr style=\"text-align: right;\">\n",
        "      <th></th>\n",
        "      <th>PassengerId</th>\n",
        "      <th>Survived</th>\n",
        "      <th>Pclass</th>\n",
        "      <th>Name</th>\n",
        "      <th>Sex</th>\n",
        "      <th>Age</th>\n",
        "      <th>SibSp</th>\n",
        "      <th>Parch</th>\n",
        "      <th>Ticket</th>\n",
        "      <th>Fare</th>\n",
        "      <th>Cabin</th>\n",
        "      <th>Embarked</th>\n",
        "    </tr>\n",
        "  </thead>\n",
        "  <tbody>\n",
        "    <tr>\n",
        "      <th>886</th>\n",
        "      <td> 887</td>\n",
        "      <td> 0</td>\n",
        "      <td> 2</td>\n",
        "      <td>                    Montvila, Rev. Juozas</td>\n",
        "      <td>   male</td>\n",
        "      <td> 27</td>\n",
        "      <td> 0</td>\n",
        "      <td> 0</td>\n",
        "      <td>     211536</td>\n",
        "      <td> 13.00</td>\n",
        "      <td>  NaN</td>\n",
        "      <td> S</td>\n",
        "    </tr>\n",
        "    <tr>\n",
        "      <th>887</th>\n",
        "      <td> 888</td>\n",
        "      <td> 1</td>\n",
        "      <td> 1</td>\n",
        "      <td>             Graham, Miss. Margaret Edith</td>\n",
        "      <td> female</td>\n",
        "      <td> 19</td>\n",
        "      <td> 0</td>\n",
        "      <td> 0</td>\n",
        "      <td>     112053</td>\n",
        "      <td> 30.00</td>\n",
        "      <td>  B42</td>\n",
        "      <td> S</td>\n",
        "    </tr>\n",
        "    <tr>\n",
        "      <th>888</th>\n",
        "      <td> 889</td>\n",
        "      <td> 0</td>\n",
        "      <td> 3</td>\n",
        "      <td> Johnston, Miss. Catherine Helen \"Carrie\"</td>\n",
        "      <td> female</td>\n",
        "      <td>NaN</td>\n",
        "      <td> 1</td>\n",
        "      <td> 2</td>\n",
        "      <td> W./C. 6607</td>\n",
        "      <td> 23.45</td>\n",
        "      <td>  NaN</td>\n",
        "      <td> S</td>\n",
        "    </tr>\n",
        "    <tr>\n",
        "      <th>889</th>\n",
        "      <td> 890</td>\n",
        "      <td> 1</td>\n",
        "      <td> 1</td>\n",
        "      <td>                    Behr, Mr. Karl Howell</td>\n",
        "      <td>   male</td>\n",
        "      <td> 26</td>\n",
        "      <td> 0</td>\n",
        "      <td> 0</td>\n",
        "      <td>     111369</td>\n",
        "      <td> 30.00</td>\n",
        "      <td> C148</td>\n",
        "      <td> C</td>\n",
        "    </tr>\n",
        "    <tr>\n",
        "      <th>890</th>\n",
        "      <td> 891</td>\n",
        "      <td> 0</td>\n",
        "      <td> 3</td>\n",
        "      <td>                      Dooley, Mr. Patrick</td>\n",
        "      <td>   male</td>\n",
        "      <td> 32</td>\n",
        "      <td> 0</td>\n",
        "      <td> 0</td>\n",
        "      <td>     370376</td>\n",
        "      <td>  7.75</td>\n",
        "      <td>  NaN</td>\n",
        "      <td> Q</td>\n",
        "    </tr>\n",
        "  </tbody>\n",
        "</table>\n",
        "</div>"
       ],
       "metadata": {},
       "output_type": "pyout",
       "prompt_number": 66,
       "text": [
        "     PassengerId  Survived  Pclass                                      Name  \\\n",
        "886          887         0       2                     Montvila, Rev. Juozas   \n",
        "887          888         1       1              Graham, Miss. Margaret Edith   \n",
        "888          889         0       3  Johnston, Miss. Catherine Helen \"Carrie\"   \n",
        "889          890         1       1                     Behr, Mr. Karl Howell   \n",
        "890          891         0       3                       Dooley, Mr. Patrick   \n",
        "\n",
        "        Sex  Age  SibSp  Parch      Ticket   Fare Cabin Embarked  \n",
        "886    male   27      0      0      211536  13.00   NaN        S  \n",
        "887  female   19      0      0      112053  30.00   B42        S  \n",
        "888  female  NaN      1      2  W./C. 6607  23.45   NaN        S  \n",
        "889    male   26      0      0      111369  30.00  C148        C  \n",
        "890    male   32      0      0      370376   7.75   NaN        Q  "
       ]
      }
     ],
     "prompt_number": 66
    },
    {
     "cell_type": "code",
     "collapsed": false,
     "input": [
      "titanic.Sex.value_counts()"
     ],
     "language": "python",
     "metadata": {},
     "outputs": [
      {
       "metadata": {},
       "output_type": "pyout",
       "prompt_number": 67,
       "text": [
        "male      577\n",
        "female    314\n",
        "dtype: int64"
       ]
      }
     ],
     "prompt_number": 67
    },
    {
     "cell_type": "code",
     "collapsed": false,
     "input": [
      "titanic.Survived.value_counts()"
     ],
     "language": "python",
     "metadata": {},
     "outputs": [
      {
       "metadata": {},
       "output_type": "pyout",
       "prompt_number": 68,
       "text": [
        "0    549\n",
        "1    342\n",
        "dtype: int64"
       ]
      }
     ],
     "prompt_number": 68
    },
    {
     "cell_type": "markdown",
     "metadata": {},
     "source": [
      "<b>Using the olympics dataset</b>"
     ]
    },
    {
     "cell_type": "code",
     "collapsed": false,
     "input": [
      "medals = pd.read_csv(\"/Users/savioabuga/Documents/DataScience/olympicmedals.csv\")"
     ],
     "language": "python",
     "metadata": {},
     "outputs": [],
     "prompt_number": 69
    },
    {
     "cell_type": "code",
     "collapsed": false,
     "input": [
      "medals.head(2)"
     ],
     "language": "python",
     "metadata": {},
     "outputs": [
      {
       "html": [
        "<div style=\"max-height:1000px;max-width:1500px;overflow:auto;\">\n",
        "<table border=\"1\" class=\"dataframe\">\n",
        "  <thead>\n",
        "    <tr style=\"text-align: right;\">\n",
        "      <th></th>\n",
        "      <th>City</th>\n",
        "      <th>Edition</th>\n",
        "      <th>Sport</th>\n",
        "      <th>Discipline</th>\n",
        "      <th>Athlete</th>\n",
        "      <th>NOC</th>\n",
        "      <th>Gender</th>\n",
        "      <th>Event</th>\n",
        "      <th>Event_gender</th>\n",
        "      <th>Medal</th>\n",
        "    </tr>\n",
        "  </thead>\n",
        "  <tbody>\n",
        "    <tr>\n",
        "      <th>0</th>\n",
        "      <td> Athens</td>\n",
        "      <td> 1896</td>\n",
        "      <td> Aquatics</td>\n",
        "      <td> Swimming</td>\n",
        "      <td>    HAJOS, Alfred</td>\n",
        "      <td> HUN</td>\n",
        "      <td> Men</td>\n",
        "      <td> 100m freestyle</td>\n",
        "      <td> M</td>\n",
        "      <td>   Gold</td>\n",
        "    </tr>\n",
        "    <tr>\n",
        "      <th>1</th>\n",
        "      <td> Athens</td>\n",
        "      <td> 1896</td>\n",
        "      <td> Aquatics</td>\n",
        "      <td> Swimming</td>\n",
        "      <td> HERSCHMANN, Otto</td>\n",
        "      <td> AUT</td>\n",
        "      <td> Men</td>\n",
        "      <td> 100m freestyle</td>\n",
        "      <td> M</td>\n",
        "      <td> Silver</td>\n",
        "    </tr>\n",
        "  </tbody>\n",
        "</table>\n",
        "</div>"
       ],
       "metadata": {},
       "output_type": "pyout",
       "prompt_number": 72,
       "text": [
        "     City  Edition     Sport Discipline           Athlete  NOC Gender  \\\n",
        "0  Athens     1896  Aquatics   Swimming     HAJOS, Alfred  HUN    Men   \n",
        "1  Athens     1896  Aquatics   Swimming  HERSCHMANN, Otto  AUT    Men   \n",
        "\n",
        "            Event Event_gender   Medal  \n",
        "0  100m freestyle            M    Gold  \n",
        "1  100m freestyle            M  Silver  "
       ]
      }
     ],
     "prompt_number": 72
    },
    {
     "cell_type": "code",
     "collapsed": false,
     "input": [
      "medals.NOC.value_counts()"
     ],
     "language": "python",
     "metadata": {},
     "outputs": [
      {
       "metadata": {},
       "output_type": "pyout",
       "prompt_number": 76,
       "text": [
        "USA    4335\n",
        "URS    2049\n",
        "GBR    1594\n",
        "FRA    1314\n",
        "ITA    1228\n",
        "GER    1211\n",
        "AUS    1075\n",
        "HUN    1053\n",
        "SWE    1021\n",
        "GDR     825\n",
        "NED     782\n",
        "JPN     704\n",
        "CHN     679\n",
        "RUS     638\n",
        "ROU     624\n",
        "...\n",
        "BDI    1\n",
        "AHO    1\n",
        "AFG    1\n",
        "BER    1\n",
        "TOG    1\n",
        "BAR    1\n",
        "ERI    1\n",
        "CIV    1\n",
        "IRQ    1\n",
        "MKD    1\n",
        "SEN    1\n",
        "TGA    1\n",
        "UAE    1\n",
        "MRI    1\n",
        "SUD    1\n",
        "Length: 138, dtype: int64"
       ]
      }
     ],
     "prompt_number": 76
    },
    {
     "cell_type": "code",
     "collapsed": false,
     "input": [
      "medals.Sport.value_counts()"
     ],
     "language": "python",
     "metadata": {},
     "outputs": [
      {
       "metadata": {},
       "output_type": "pyout",
       "prompt_number": 77,
       "text": [
        "Aquatics             3828\n",
        "Athletics            3448\n",
        "Rowing               2523\n",
        "Gymnastics           2214\n",
        "Fencing              1547\n",
        "Football             1387\n",
        "Hockey               1325\n",
        "Wrestling            1140\n",
        "Shooting             1105\n",
        "Sailing              1061\n",
        "Cycling              1025\n",
        "Canoe / Kayak        1002\n",
        "Basketball            940\n",
        "Volleyball            910\n",
        "Equestrian            894\n",
        "Handball              886\n",
        "Boxing                842\n",
        "Weightlifting         548\n",
        "Judo                  435\n",
        "Baseball              335\n",
        "Archery               305\n",
        "Tennis                272\n",
        "Rugby                 192\n",
        "Softball              180\n",
        "Modern Pentathlon     174\n",
        "Badminton             120\n",
        "Table Tennis          120\n",
        "Tug of War             94\n",
        "Taekwondo              80\n",
        "Polo                   66\n",
        "Lacrosse               59\n",
        "Golf                   30\n",
        "Skating                27\n",
        "Ice Hockey             27\n",
        "Cricket                24\n",
        "Triathlon              18\n",
        "Rackets                10\n",
        "Croquet                 8\n",
        "Water Motorsports       5\n",
        "Basque Pelota           4\n",
        "Roque                   3\n",
        "Jeu de paume            3\n",
        "dtype: int64"
       ]
      }
     ],
     "prompt_number": 77
    },
    {
     "cell_type": "markdown",
     "metadata": {},
     "source": [
      "<h3>Lesson 2.1</h3>\n",
      "Sorting DataFrame in Pandas\n",
      "https://www.youtube.com/watch?v=rNmn8bLFgdg\n",
      "\n"
     ]
    },
    {
     "cell_type": "code",
     "collapsed": false,
     "input": [
      "import pandas as pd"
     ],
     "language": "python",
     "metadata": {},
     "outputs": [],
     "prompt_number": 4
    },
    {
     "cell_type": "code",
     "collapsed": false,
     "input": [
      "mlb = pd.read_csv(\"/Users/savioabuga/Documents/DataScience/data/mlbsalaries.csv\")"
     ],
     "language": "python",
     "metadata": {},
     "outputs": [],
     "prompt_number": 5
    },
    {
     "cell_type": "code",
     "collapsed": false,
     "input": [
      "mlb.head()"
     ],
     "language": "python",
     "metadata": {},
     "outputs": [
      {
       "html": [
        "<div style=\"max-height:1000px;max-width:1500px;overflow:auto;\">\n",
        "<table border=\"1\" class=\"dataframe\">\n",
        "  <thead>\n",
        "    <tr style=\"text-align: right;\">\n",
        "      <th></th>\n",
        "      <th>Year</th>\n",
        "      <th>Player</th>\n",
        "      <th>Salary</th>\n",
        "      <th>Position</th>\n",
        "      <th>Team</th>\n",
        "    </tr>\n",
        "  </thead>\n",
        "  <tbody>\n",
        "    <tr>\n",
        "      <th>0</th>\n",
        "      <td> 1988</td>\n",
        "      <td>       Mike Witt</td>\n",
        "      <td> 1400000</td>\n",
        "      <td>           Pitcher</td>\n",
        "      <td> Los Angeles Angels</td>\n",
        "    </tr>\n",
        "    <tr>\n",
        "      <th>1</th>\n",
        "      <td> 1988</td>\n",
        "      <td> George Hendrick</td>\n",
        "      <td>  989333</td>\n",
        "      <td>        Outfielder</td>\n",
        "      <td> Los Angeles Angels</td>\n",
        "    </tr>\n",
        "    <tr>\n",
        "      <th>2</th>\n",
        "      <td> 1988</td>\n",
        "      <td>     Chili Davis</td>\n",
        "      <td>  950000</td>\n",
        "      <td>        Outfielder</td>\n",
        "      <td> Los Angeles Angels</td>\n",
        "    </tr>\n",
        "    <tr>\n",
        "      <th>3</th>\n",
        "      <td> 1988</td>\n",
        "      <td>   Brian Downing</td>\n",
        "      <td>  900000</td>\n",
        "      <td> Designated Hitter</td>\n",
        "      <td> Los Angeles Angels</td>\n",
        "    </tr>\n",
        "    <tr>\n",
        "      <th>4</th>\n",
        "      <td> 1988</td>\n",
        "      <td>       Bob Boone</td>\n",
        "      <td>  883000</td>\n",
        "      <td>           Catcher</td>\n",
        "      <td> Los Angeles Angels</td>\n",
        "    </tr>\n",
        "  </tbody>\n",
        "</table>\n",
        "</div>"
       ],
       "metadata": {},
       "output_type": "pyout",
       "prompt_number": 81,
       "text": [
        "   Year           Player   Salary           Position                Team\n",
        "0  1988        Mike Witt  1400000            Pitcher  Los Angeles Angels\n",
        "1  1988  George Hendrick   989333         Outfielder  Los Angeles Angels\n",
        "2  1988      Chili Davis   950000         Outfielder  Los Angeles Angels\n",
        "3  1988    Brian Downing   900000  Designated Hitter  Los Angeles Angels\n",
        "4  1988        Bob Boone   883000            Catcher  Los Angeles Angels"
       ]
      }
     ],
     "prompt_number": 81
    },
    {
     "cell_type": "code",
     "collapsed": false,
     "input": [
      "mlb.tail()"
     ],
     "language": "python",
     "metadata": {},
     "outputs": [
      {
       "html": [
        "<div style=\"max-height:1000px;max-width:1500px;overflow:auto;\">\n",
        "<table border=\"1\" class=\"dataframe\">\n",
        "  <thead>\n",
        "    <tr style=\"text-align: right;\">\n",
        "      <th></th>\n",
        "      <th>Year</th>\n",
        "      <th>Player</th>\n",
        "      <th>Salary</th>\n",
        "      <th>Position</th>\n",
        "      <th>Team</th>\n",
        "    </tr>\n",
        "  </thead>\n",
        "  <tbody>\n",
        "    <tr>\n",
        "      <th>19538</th>\n",
        "      <td> 2011</td>\n",
        "      <td> Gustavo Molina</td>\n",
        "      <td> 455000</td>\n",
        "      <td>        Catcher</td>\n",
        "      <td> New York Yankees</td>\n",
        "    </tr>\n",
        "    <tr>\n",
        "      <th>19539</th>\n",
        "      <td> 2011</td>\n",
        "      <td>      Ivan Nova</td>\n",
        "      <td> 432900</td>\n",
        "      <td>        Pitcher</td>\n",
        "      <td> New York Yankees</td>\n",
        "    </tr>\n",
        "    <tr>\n",
        "      <th>19540</th>\n",
        "      <td> 2011</td>\n",
        "      <td>   Colin Curtis</td>\n",
        "      <td> 420400</td>\n",
        "      <td>     Outfielder</td>\n",
        "      <td> New York Yankees</td>\n",
        "    </tr>\n",
        "    <tr>\n",
        "      <th>19541</th>\n",
        "      <td> 2011</td>\n",
        "      <td>  Eduardo Nunez</td>\n",
        "      <td> 419300</td>\n",
        "      <td>      Shortstop</td>\n",
        "      <td> New York Yankees</td>\n",
        "    </tr>\n",
        "    <tr>\n",
        "      <th>19542</th>\n",
        "      <td> 2011</td>\n",
        "      <td>  Reegie Corona</td>\n",
        "      <td> 414000</td>\n",
        "      <td> Second Baseman</td>\n",
        "      <td> New York Yankees</td>\n",
        "    </tr>\n",
        "  </tbody>\n",
        "</table>\n",
        "</div>"
       ],
       "metadata": {},
       "output_type": "pyout",
       "prompt_number": 8,
       "text": [
        "       Year          Player  Salary        Position              Team\n",
        "19538  2011  Gustavo Molina  455000         Catcher  New York Yankees\n",
        "19539  2011       Ivan Nova  432900         Pitcher  New York Yankees\n",
        "19540  2011    Colin Curtis  420400      Outfielder  New York Yankees\n",
        "19541  2011   Eduardo Nunez  419300       Shortstop  New York Yankees\n",
        "19542  2011   Reegie Corona  414000  Second Baseman  New York Yankees"
       ]
      }
     ],
     "prompt_number": 8
    },
    {
     "cell_type": "code",
     "collapsed": false,
     "input": [
      "mlb.Salary.mean()"
     ],
     "language": "python",
     "metadata": {},
     "outputs": [
      {
       "metadata": {},
       "output_type": "pyout",
       "prompt_number": 9,
       "text": [
        "1916816.9842398814"
       ]
      }
     ],
     "prompt_number": 9
    },
    {
     "cell_type": "code",
     "collapsed": false,
     "input": [
      "mlb.tail()"
     ],
     "language": "python",
     "metadata": {},
     "outputs": [
      {
       "html": [
        "<div style=\"max-height:1000px;max-width:1500px;overflow:auto;\">\n",
        "<table border=\"1\" class=\"dataframe\">\n",
        "  <thead>\n",
        "    <tr style=\"text-align: right;\">\n",
        "      <th></th>\n",
        "      <th>Year</th>\n",
        "      <th>Player</th>\n",
        "      <th>Salary</th>\n",
        "      <th>Position</th>\n",
        "      <th>Team</th>\n",
        "    </tr>\n",
        "  </thead>\n",
        "  <tbody>\n",
        "    <tr>\n",
        "      <th>19538</th>\n",
        "      <td> 2011</td>\n",
        "      <td> Gustavo Molina</td>\n",
        "      <td> 455000</td>\n",
        "      <td>        Catcher</td>\n",
        "      <td> New York Yankees</td>\n",
        "    </tr>\n",
        "    <tr>\n",
        "      <th>19539</th>\n",
        "      <td> 2011</td>\n",
        "      <td>      Ivan Nova</td>\n",
        "      <td> 432900</td>\n",
        "      <td>        Pitcher</td>\n",
        "      <td> New York Yankees</td>\n",
        "    </tr>\n",
        "    <tr>\n",
        "      <th>19540</th>\n",
        "      <td> 2011</td>\n",
        "      <td>   Colin Curtis</td>\n",
        "      <td> 420400</td>\n",
        "      <td>     Outfielder</td>\n",
        "      <td> New York Yankees</td>\n",
        "    </tr>\n",
        "    <tr>\n",
        "      <th>19541</th>\n",
        "      <td> 2011</td>\n",
        "      <td>  Eduardo Nunez</td>\n",
        "      <td> 419300</td>\n",
        "      <td>      Shortstop</td>\n",
        "      <td> New York Yankees</td>\n",
        "    </tr>\n",
        "    <tr>\n",
        "      <th>19542</th>\n",
        "      <td> 2011</td>\n",
        "      <td>  Reegie Corona</td>\n",
        "      <td> 414000</td>\n",
        "      <td> Second Baseman</td>\n",
        "      <td> New York Yankees</td>\n",
        "    </tr>\n",
        "  </tbody>\n",
        "</table>\n",
        "</div>"
       ],
       "metadata": {},
       "output_type": "pyout",
       "prompt_number": 82,
       "text": [
        "       Year          Player  Salary        Position              Team\n",
        "19538  2011  Gustavo Molina  455000         Catcher  New York Yankees\n",
        "19539  2011       Ivan Nova  432900         Pitcher  New York Yankees\n",
        "19540  2011    Colin Curtis  420400      Outfielder  New York Yankees\n",
        "19541  2011   Eduardo Nunez  419300       Shortstop  New York Yankees\n",
        "19542  2011   Reegie Corona  414000  Second Baseman  New York Yankees"
       ]
      }
     ],
     "prompt_number": 82
    },
    {
     "cell_type": "markdown",
     "metadata": {},
     "source": [
      "<b>Review: Use value_counts() method to indentify unique value and corresponding counts</b>"
     ]
    },
    {
     "cell_type": "code",
     "collapsed": false,
     "input": [
      "mlb.Year.value_counts()"
     ],
     "language": "python",
     "metadata": {},
     "outputs": [
      {
       "metadata": {},
       "output_type": "pyout",
       "prompt_number": 83,
       "text": [
        "1990    972\n",
        "1999    919\n",
        "2008    858\n",
        "2001    857\n",
        "2002    849\n",
        "2007    848\n",
        "1998    846\n",
        "2011    843\n",
        "2000    843\n",
        "2004    833\n",
        "2005    831\n",
        "2010    828\n",
        "2003    826\n",
        "2006    823\n",
        "2009    818\n",
        "1995    805\n",
        "1993    786\n",
        "1997    773\n",
        "1996    768\n",
        "1992    753\n",
        "1994    748\n",
        "1991    720\n",
        "1989    710\n",
        "1988    686\n",
        "dtype: int64"
       ]
      }
     ],
     "prompt_number": 83
    },
    {
     "cell_type": "code",
     "collapsed": false,
     "input": [
      "mlb.Team.value_counts()"
     ],
     "language": "python",
     "metadata": {},
     "outputs": [
      {
       "metadata": {},
       "output_type": "pyout",
       "prompt_number": 84,
       "text": [
        "Texas Rangers            711\n",
        "Los Angeles Dodgers      698\n",
        "Los Angeles Angels       695\n",
        "Philadelphia Phillies    695\n",
        "St. Louis Cardinals      693\n",
        "Cleveland Indians        693\n",
        "Boston Red Sox           692\n",
        "Milwaukee Brewers        690\n",
        "Washington Nationals     687\n",
        "New York Yankees         685\n",
        "Baltimore Orioles        684\n",
        "Seattle Mariners         684\n",
        "Toronto Blue Jays        683\n",
        "Atlanta Braves           683\n",
        "Cincinnati Reds          681\n",
        "San Francisco Giants     678\n",
        "Detroit Tigers           676\n",
        "New York Mets            676\n",
        "Kansas City Royals       674\n",
        "Oakland Athletics        674\n",
        "San Diego Padres         673\n",
        "Pittsburgh Pirates       669\n",
        "Chicago Cubs             663\n",
        "Houston Astros           660\n",
        "Minnesota Twins          650\n",
        "Chicago White Sox        648\n",
        "Florida Marlins          533\n",
        "Colorado Rockies         528\n",
        "Tampa Bay Rays           398\n",
        "Arizona Diamondbacks     389\n",
        "dtype: int64"
       ]
      }
     ],
     "prompt_number": 84
    },
    {
     "cell_type": "code",
     "collapsed": false,
     "input": [
      "mlb.Position.value_counts()"
     ],
     "language": "python",
     "metadata": {},
     "outputs": [
      {
       "metadata": {},
       "output_type": "pyout",
       "prompt_number": 86,
       "text": [
        "Pitcher              9160\n",
        "Outfielder           3785\n",
        "Catcher              1664\n",
        "Shortstop            1331\n",
        "Second Baseman       1216\n",
        "Third Baseman        1139\n",
        "First Baseman        1118\n",
        "Designated Hitter     109\n",
        "Infielder              21\n",
        "dtype: int64"
       ]
      }
     ],
     "prompt_number": 86
    },
    {
     "cell_type": "code",
     "collapsed": false,
     "input": [
      "yr2010 = mlb[mlb.Year==2010]"
     ],
     "language": "python",
     "metadata": {},
     "outputs": [],
     "prompt_number": 89
    },
    {
     "cell_type": "code",
     "collapsed": false,
     "input": [
      "yr2010 = yr2010.set_index('Player')"
     ],
     "language": "python",
     "metadata": {},
     "outputs": [],
     "prompt_number": 91
    },
    {
     "cell_type": "code",
     "collapsed": false,
     "input": [
      "yr2010.head()"
     ],
     "language": "python",
     "metadata": {},
     "outputs": [
      {
       "html": [
        "<div style=\"max-height:1000px;max-width:1500px;overflow:auto;\">\n",
        "<table border=\"1\" class=\"dataframe\">\n",
        "  <thead>\n",
        "    <tr style=\"text-align: right;\">\n",
        "      <th></th>\n",
        "      <th>Year</th>\n",
        "      <th>Salary</th>\n",
        "      <th>Position</th>\n",
        "      <th>Team</th>\n",
        "    </tr>\n",
        "    <tr>\n",
        "      <th>Player</th>\n",
        "      <th></th>\n",
        "      <th></th>\n",
        "      <th></th>\n",
        "      <th></th>\n",
        "    </tr>\n",
        "  </thead>\n",
        "  <tbody>\n",
        "    <tr>\n",
        "      <th>Torii Hunter</th>\n",
        "      <td> 2010</td>\n",
        "      <td> 18500000</td>\n",
        "      <td> Outfielder</td>\n",
        "      <td> Los Angeles Angels</td>\n",
        "    </tr>\n",
        "    <tr>\n",
        "      <th>Bobby Abreu</th>\n",
        "      <td> 2010</td>\n",
        "      <td>  9000000</td>\n",
        "      <td> Outfielder</td>\n",
        "      <td> Los Angeles Angels</td>\n",
        "    </tr>\n",
        "    <tr>\n",
        "      <th>Brian Fuentes</th>\n",
        "      <td> 2010</td>\n",
        "      <td>  9000000</td>\n",
        "      <td>    Pitcher</td>\n",
        "      <td> Los Angeles Angels</td>\n",
        "    </tr>\n",
        "    <tr>\n",
        "      <th>Scott Kazmir</th>\n",
        "      <td> 2010</td>\n",
        "      <td>  8000000</td>\n",
        "      <td>    Pitcher</td>\n",
        "      <td> Los Angeles Angels</td>\n",
        "    </tr>\n",
        "    <tr>\n",
        "      <th>Joel Pineiro</th>\n",
        "      <td> 2010</td>\n",
        "      <td>  8000000</td>\n",
        "      <td>    Pitcher</td>\n",
        "      <td> Los Angeles Angels</td>\n",
        "    </tr>\n",
        "  </tbody>\n",
        "</table>\n",
        "</div>"
       ],
       "metadata": {},
       "output_type": "pyout",
       "prompt_number": 92,
       "text": [
        "               Year    Salary    Position                Team\n",
        "Player                                                       \n",
        "Torii Hunter   2010  18500000  Outfielder  Los Angeles Angels\n",
        "Bobby Abreu    2010   9000000  Outfielder  Los Angeles Angels\n",
        "Brian Fuentes  2010   9000000     Pitcher  Los Angeles Angels\n",
        "Scott Kazmir   2010   8000000     Pitcher  Los Angeles Angels\n",
        "Joel Pineiro   2010   8000000     Pitcher  Los Angeles Angels"
       ]
      }
     ],
     "prompt_number": 92
    },
    {
     "cell_type": "markdown",
     "metadata": {},
     "source": [
      "<b>Sort Operations</b>"
     ]
    },
    {
     "cell_type": "code",
     "collapsed": false,
     "input": [
      "# Sort by row labels\n",
      "yr2010.sort_index().head()\n",
      "\n"
     ],
     "language": "python",
     "metadata": {},
     "outputs": [
      {
       "html": [
        "<div style=\"max-height:1000px;max-width:1500px;overflow:auto;\">\n",
        "<table border=\"1\" class=\"dataframe\">\n",
        "  <thead>\n",
        "    <tr style=\"text-align: right;\">\n",
        "      <th></th>\n",
        "      <th>Year</th>\n",
        "      <th>Salary</th>\n",
        "      <th>Position</th>\n",
        "      <th>Team</th>\n",
        "    </tr>\n",
        "    <tr>\n",
        "      <th>Player</th>\n",
        "      <th></th>\n",
        "      <th></th>\n",
        "      <th></th>\n",
        "      <th></th>\n",
        "    </tr>\n",
        "  </thead>\n",
        "  <tbody>\n",
        "    <tr>\n",
        "      <th>A.J. Burnett</th>\n",
        "      <td> 2010</td>\n",
        "      <td> 16500000</td>\n",
        "      <td> Pitcher</td>\n",
        "      <td>     New York Yankees</td>\n",
        "    </tr>\n",
        "    <tr>\n",
        "      <th>A.J. Pierzynski</th>\n",
        "      <td> 2010</td>\n",
        "      <td>  6750000</td>\n",
        "      <td> Catcher</td>\n",
        "      <td>    Chicago White Sox</td>\n",
        "    </tr>\n",
        "    <tr>\n",
        "      <th>Aaron Cook</th>\n",
        "      <td> 2010</td>\n",
        "      <td>  9625000</td>\n",
        "      <td> Pitcher</td>\n",
        "      <td>     Colorado Rockies</td>\n",
        "    </tr>\n",
        "    <tr>\n",
        "      <th>Aaron Harang</th>\n",
        "      <td> 2010</td>\n",
        "      <td> 12500000</td>\n",
        "      <td> Pitcher</td>\n",
        "      <td>      Cincinnati Reds</td>\n",
        "    </tr>\n",
        "    <tr>\n",
        "      <th>Aaron Heilman</th>\n",
        "      <td> 2010</td>\n",
        "      <td>  2150000</td>\n",
        "      <td> Pitcher</td>\n",
        "      <td> Arizona Diamondbacks</td>\n",
        "    </tr>\n",
        "  </tbody>\n",
        "</table>\n",
        "</div>"
       ],
       "metadata": {},
       "output_type": "pyout",
       "prompt_number": 94,
       "text": [
        "                 Year    Salary Position                  Team\n",
        "Player                                                        \n",
        "A.J. Burnett     2010  16500000  Pitcher      New York Yankees\n",
        "A.J. Pierzynski  2010   6750000  Catcher     Chicago White Sox\n",
        "Aaron Cook       2010   9625000  Pitcher      Colorado Rockies\n",
        "Aaron Harang     2010  12500000  Pitcher       Cincinnati Reds\n",
        "Aaron Heilman    2010   2150000  Pitcher  Arizona Diamondbacks"
       ]
      }
     ],
     "prompt_number": 94
    },
    {
     "cell_type": "code",
     "collapsed": false,
     "input": [
      "# Sort by column label\n",
      "yr2010.sort_index(axis=1).head()"
     ],
     "language": "python",
     "metadata": {},
     "outputs": [
      {
       "html": [
        "<div style=\"max-height:1000px;max-width:1500px;overflow:auto;\">\n",
        "<table border=\"1\" class=\"dataframe\">\n",
        "  <thead>\n",
        "    <tr style=\"text-align: right;\">\n",
        "      <th></th>\n",
        "      <th>Position</th>\n",
        "      <th>Salary</th>\n",
        "      <th>Team</th>\n",
        "      <th>Year</th>\n",
        "    </tr>\n",
        "    <tr>\n",
        "      <th>Player</th>\n",
        "      <th></th>\n",
        "      <th></th>\n",
        "      <th></th>\n",
        "      <th></th>\n",
        "    </tr>\n",
        "  </thead>\n",
        "  <tbody>\n",
        "    <tr>\n",
        "      <th>Torii Hunter</th>\n",
        "      <td> Outfielder</td>\n",
        "      <td> 18500000</td>\n",
        "      <td> Los Angeles Angels</td>\n",
        "      <td> 2010</td>\n",
        "    </tr>\n",
        "    <tr>\n",
        "      <th>Bobby Abreu</th>\n",
        "      <td> Outfielder</td>\n",
        "      <td>  9000000</td>\n",
        "      <td> Los Angeles Angels</td>\n",
        "      <td> 2010</td>\n",
        "    </tr>\n",
        "    <tr>\n",
        "      <th>Brian Fuentes</th>\n",
        "      <td>    Pitcher</td>\n",
        "      <td>  9000000</td>\n",
        "      <td> Los Angeles Angels</td>\n",
        "      <td> 2010</td>\n",
        "    </tr>\n",
        "    <tr>\n",
        "      <th>Scott Kazmir</th>\n",
        "      <td>    Pitcher</td>\n",
        "      <td>  8000000</td>\n",
        "      <td> Los Angeles Angels</td>\n",
        "      <td> 2010</td>\n",
        "    </tr>\n",
        "    <tr>\n",
        "      <th>Joel Pineiro</th>\n",
        "      <td>    Pitcher</td>\n",
        "      <td>  8000000</td>\n",
        "      <td> Los Angeles Angels</td>\n",
        "      <td> 2010</td>\n",
        "    </tr>\n",
        "  </tbody>\n",
        "</table>\n",
        "</div>"
       ],
       "metadata": {},
       "output_type": "pyout",
       "prompt_number": 95,
       "text": [
        "                 Position    Salary                Team  Year\n",
        "Player                                                       \n",
        "Torii Hunter   Outfielder  18500000  Los Angeles Angels  2010\n",
        "Bobby Abreu    Outfielder   9000000  Los Angeles Angels  2010\n",
        "Brian Fuentes     Pitcher   9000000  Los Angeles Angels  2010\n",
        "Scott Kazmir      Pitcher   8000000  Los Angeles Angels  2010\n",
        "Joel Pineiro      Pitcher   8000000  Los Angeles Angels  2010"
       ]
      }
     ],
     "prompt_number": 95
    },
    {
     "cell_type": "code",
     "collapsed": false,
     "input": [
      "# Sort column field using order field; It returns a series\n",
      "yr2010.Salary.order(ascending=False).head()"
     ],
     "language": "python",
     "metadata": {},
     "outputs": [
      {
       "metadata": {},
       "output_type": "pyout",
       "prompt_number": 96,
       "text": [
        "Player\n",
        "Alex Rodriguez    33000000\n",
        "CC Sabathia       24285714\n",
        "Derek Jeter       22600000\n",
        "Mark Teixeira     20625000\n",
        "Johan Santana     20144707\n",
        "Name: Salary, dtype: int64"
       ]
      }
     ],
     "prompt_number": 96
    },
    {
     "cell_type": "code",
     "collapsed": false,
     "input": [
      "# Sorting using sort_index\n",
      "yr2010.sort_index(ascending=False, by=['Salary']).head()"
     ],
     "language": "python",
     "metadata": {},
     "outputs": [
      {
       "html": [
        "<div style=\"max-height:1000px;max-width:1500px;overflow:auto;\">\n",
        "<table border=\"1\" class=\"dataframe\">\n",
        "  <thead>\n",
        "    <tr style=\"text-align: right;\">\n",
        "      <th></th>\n",
        "      <th>Year</th>\n",
        "      <th>Salary</th>\n",
        "      <th>Position</th>\n",
        "      <th>Team</th>\n",
        "    </tr>\n",
        "    <tr>\n",
        "      <th>Player</th>\n",
        "      <th></th>\n",
        "      <th></th>\n",
        "      <th></th>\n",
        "      <th></th>\n",
        "    </tr>\n",
        "  </thead>\n",
        "  <tbody>\n",
        "    <tr>\n",
        "      <th>Alex Rodriguez</th>\n",
        "      <td> 2010</td>\n",
        "      <td> 33000000</td>\n",
        "      <td> Third Baseman</td>\n",
        "      <td> New York Yankees</td>\n",
        "    </tr>\n",
        "    <tr>\n",
        "      <th>CC Sabathia</th>\n",
        "      <td> 2010</td>\n",
        "      <td> 24285714</td>\n",
        "      <td>       Pitcher</td>\n",
        "      <td> New York Yankees</td>\n",
        "    </tr>\n",
        "    <tr>\n",
        "      <th>Derek Jeter</th>\n",
        "      <td> 2010</td>\n",
        "      <td> 22600000</td>\n",
        "      <td>     Shortstop</td>\n",
        "      <td> New York Yankees</td>\n",
        "    </tr>\n",
        "    <tr>\n",
        "      <th>Mark Teixeira</th>\n",
        "      <td> 2010</td>\n",
        "      <td> 20625000</td>\n",
        "      <td> First Baseman</td>\n",
        "      <td> New York Yankees</td>\n",
        "    </tr>\n",
        "    <tr>\n",
        "      <th>Johan Santana</th>\n",
        "      <td> 2010</td>\n",
        "      <td> 20144707</td>\n",
        "      <td>       Pitcher</td>\n",
        "      <td>    New York Mets</td>\n",
        "    </tr>\n",
        "  </tbody>\n",
        "</table>\n",
        "</div>"
       ],
       "metadata": {},
       "output_type": "pyout",
       "prompt_number": 97,
       "text": [
        "                Year    Salary       Position              Team\n",
        "Player                                                         \n",
        "Alex Rodriguez  2010  33000000  Third Baseman  New York Yankees\n",
        "CC Sabathia     2010  24285714        Pitcher  New York Yankees\n",
        "Derek Jeter     2010  22600000      Shortstop  New York Yankees\n",
        "Mark Teixeira   2010  20625000  First Baseman  New York Yankees\n",
        "Johan Santana   2010  20144707        Pitcher     New York Mets"
       ]
      }
     ],
     "prompt_number": 97
    },
    {
     "cell_type": "code",
     "collapsed": false,
     "input": [
      "# Sorting by two columns\n",
      "yr2010.sort_index(ascending=[False, True], by=['Salary', 'Team']).head(20)"
     ],
     "language": "python",
     "metadata": {},
     "outputs": [
      {
       "html": [
        "<div style=\"max-height:1000px;max-width:1500px;overflow:auto;\">\n",
        "<table border=\"1\" class=\"dataframe\">\n",
        "  <thead>\n",
        "    <tr style=\"text-align: right;\">\n",
        "      <th></th>\n",
        "      <th>Year</th>\n",
        "      <th>Salary</th>\n",
        "      <th>Position</th>\n",
        "      <th>Team</th>\n",
        "    </tr>\n",
        "    <tr>\n",
        "      <th>Player</th>\n",
        "      <th></th>\n",
        "      <th></th>\n",
        "      <th></th>\n",
        "      <th></th>\n",
        "    </tr>\n",
        "  </thead>\n",
        "  <tbody>\n",
        "    <tr>\n",
        "      <th>Alex Rodriguez</th>\n",
        "      <td> 2010</td>\n",
        "      <td> 33000000</td>\n",
        "      <td> Third Baseman</td>\n",
        "      <td>      New York Yankees</td>\n",
        "    </tr>\n",
        "    <tr>\n",
        "      <th>CC Sabathia</th>\n",
        "      <td> 2010</td>\n",
        "      <td> 24285714</td>\n",
        "      <td>       Pitcher</td>\n",
        "      <td>      New York Yankees</td>\n",
        "    </tr>\n",
        "    <tr>\n",
        "      <th>Derek Jeter</th>\n",
        "      <td> 2010</td>\n",
        "      <td> 22600000</td>\n",
        "      <td>     Shortstop</td>\n",
        "      <td>      New York Yankees</td>\n",
        "    </tr>\n",
        "    <tr>\n",
        "      <th>Mark Teixeira</th>\n",
        "      <td> 2010</td>\n",
        "      <td> 20625000</td>\n",
        "      <td> First Baseman</td>\n",
        "      <td>      New York Yankees</td>\n",
        "    </tr>\n",
        "    <tr>\n",
        "      <th>Johan Santana</th>\n",
        "      <td> 2010</td>\n",
        "      <td> 20144707</td>\n",
        "      <td>       Pitcher</td>\n",
        "      <td>         New York Mets</td>\n",
        "    </tr>\n",
        "    <tr>\n",
        "      <th>Miguel Cabrera</th>\n",
        "      <td> 2010</td>\n",
        "      <td> 20000000</td>\n",
        "      <td> First Baseman</td>\n",
        "      <td>        Detroit Tigers</td>\n",
        "    </tr>\n",
        "    <tr>\n",
        "      <th>Carlos Beltran</th>\n",
        "      <td> 2010</td>\n",
        "      <td> 19401569</td>\n",
        "      <td>    Outfielder</td>\n",
        "      <td>         New York Mets</td>\n",
        "    </tr>\n",
        "    <tr>\n",
        "      <th>Alfonso Soriano</th>\n",
        "      <td> 2010</td>\n",
        "      <td> 19000000</td>\n",
        "      <td>    Outfielder</td>\n",
        "      <td>          Chicago Cubs</td>\n",
        "    </tr>\n",
        "    <tr>\n",
        "      <th>Carlos Lee</th>\n",
        "      <td> 2010</td>\n",
        "      <td> 19000000</td>\n",
        "      <td>    Outfielder</td>\n",
        "      <td>        Houston Astros</td>\n",
        "    </tr>\n",
        "    <tr>\n",
        "      <th>Ryan Howard</th>\n",
        "      <td> 2010</td>\n",
        "      <td> 19000000</td>\n",
        "      <td> First Baseman</td>\n",
        "      <td> Philadelphia Phillies</td>\n",
        "    </tr>\n",
        "    <tr>\n",
        "      <th>Carlos Zambrano</th>\n",
        "      <td> 2010</td>\n",
        "      <td> 18875000</td>\n",
        "      <td>       Pitcher</td>\n",
        "      <td>          Chicago Cubs</td>\n",
        "    </tr>\n",
        "    <tr>\n",
        "      <th>John Lackey</th>\n",
        "      <td> 2010</td>\n",
        "      <td> 18700000</td>\n",
        "      <td>       Pitcher</td>\n",
        "      <td>        Boston Red Sox</td>\n",
        "    </tr>\n",
        "    <tr>\n",
        "      <th>Manny Ramirez</th>\n",
        "      <td> 2010</td>\n",
        "      <td> 18695006</td>\n",
        "      <td>    Outfielder</td>\n",
        "      <td>   Los Angeles Dodgers</td>\n",
        "    </tr>\n",
        "    <tr>\n",
        "      <th>Torii Hunter</th>\n",
        "      <td> 2010</td>\n",
        "      <td> 18500000</td>\n",
        "      <td>    Outfielder</td>\n",
        "      <td>    Los Angeles Angels</td>\n",
        "    </tr>\n",
        "    <tr>\n",
        "      <th>Barry Zito</th>\n",
        "      <td> 2010</td>\n",
        "      <td> 18500000</td>\n",
        "      <td>       Pitcher</td>\n",
        "      <td>  San Francisco Giants</td>\n",
        "    </tr>\n",
        "    <tr>\n",
        "      <th>Ichiro Suzuki</th>\n",
        "      <td> 2010</td>\n",
        "      <td> 18000000</td>\n",
        "      <td>    Outfielder</td>\n",
        "      <td>      Seattle Mariners</td>\n",
        "    </tr>\n",
        "    <tr>\n",
        "      <th>Magglio Ordonez</th>\n",
        "      <td> 2010</td>\n",
        "      <td> 17825976</td>\n",
        "      <td>    Outfielder</td>\n",
        "      <td>        Detroit Tigers</td>\n",
        "    </tr>\n",
        "    <tr>\n",
        "      <th>Todd Helton</th>\n",
        "      <td> 2010</td>\n",
        "      <td> 17775000</td>\n",
        "      <td> First Baseman</td>\n",
        "      <td>      Colorado Rockies</td>\n",
        "    </tr>\n",
        "    <tr>\n",
        "      <th>Aramis Ramirez</th>\n",
        "      <td> 2010</td>\n",
        "      <td> 16750000</td>\n",
        "      <td> Third Baseman</td>\n",
        "      <td>          Chicago Cubs</td>\n",
        "    </tr>\n",
        "    <tr>\n",
        "      <th>A.J. Burnett</th>\n",
        "      <td> 2010</td>\n",
        "      <td> 16500000</td>\n",
        "      <td>       Pitcher</td>\n",
        "      <td>      New York Yankees</td>\n",
        "    </tr>\n",
        "  </tbody>\n",
        "</table>\n",
        "</div>"
       ],
       "metadata": {},
       "output_type": "pyout",
       "prompt_number": 99,
       "text": [
        "                 Year    Salary       Position                   Team\n",
        "Player                                                               \n",
        "Alex Rodriguez   2010  33000000  Third Baseman       New York Yankees\n",
        "CC Sabathia      2010  24285714        Pitcher       New York Yankees\n",
        "Derek Jeter      2010  22600000      Shortstop       New York Yankees\n",
        "Mark Teixeira    2010  20625000  First Baseman       New York Yankees\n",
        "Johan Santana    2010  20144707        Pitcher          New York Mets\n",
        "Miguel Cabrera   2010  20000000  First Baseman         Detroit Tigers\n",
        "Carlos Beltran   2010  19401569     Outfielder          New York Mets\n",
        "Alfonso Soriano  2010  19000000     Outfielder           Chicago Cubs\n",
        "Carlos Lee       2010  19000000     Outfielder         Houston Astros\n",
        "Ryan Howard      2010  19000000  First Baseman  Philadelphia Phillies\n",
        "Carlos Zambrano  2010  18875000        Pitcher           Chicago Cubs\n",
        "John Lackey      2010  18700000        Pitcher         Boston Red Sox\n",
        "Manny Ramirez    2010  18695006     Outfielder    Los Angeles Dodgers\n",
        "Torii Hunter     2010  18500000     Outfielder     Los Angeles Angels\n",
        "Barry Zito       2010  18500000        Pitcher   San Francisco Giants\n",
        "Ichiro Suzuki    2010  18000000     Outfielder       Seattle Mariners\n",
        "Magglio Ordonez  2010  17825976     Outfielder         Detroit Tigers\n",
        "Todd Helton      2010  17775000  First Baseman       Colorado Rockies\n",
        "Aramis Ramirez   2010  16750000  Third Baseman           Chicago Cubs\n",
        "A.J. Burnett     2010  16500000        Pitcher       New York Yankees"
       ]
      }
     ],
     "prompt_number": 99
    },
    {
     "cell_type": "code",
     "collapsed": false,
     "input": [
      "# topten paid \n",
      "top10 = yr2010.Salary.order(ascending=False).head()"
     ],
     "language": "python",
     "metadata": {},
     "outputs": [],
     "prompt_number": 106
    },
    {
     "cell_type": "code",
     "collapsed": false,
     "input": [
      "type(top10)"
     ],
     "language": "python",
     "metadata": {},
     "outputs": [
      {
       "metadata": {},
       "output_type": "pyout",
       "prompt_number": 108,
       "text": [
        "pandas.core.series.Series"
       ]
      }
     ],
     "prompt_number": 108
    },
    {
     "cell_type": "code",
     "collapsed": false,
     "input": [
      "# Plot the highest paid\n",
      "plt.figure()\n",
      "top10.plot(label='Salaries')\n",
      "#xticks(rotation='vertical')\n",
      "plt.legend()"
     ],
     "language": "python",
     "metadata": {},
     "outputs": [
      {
       "metadata": {},
       "output_type": "pyout",
       "prompt_number": 112,
       "text": [
        "<matplotlib.legend.Legend at 0x10ac90110>"
       ]
      }
     ],
     "prompt_number": 112
    },
    {
     "cell_type": "markdown",
     "metadata": {},
     "source": [
      "<h3>Lesson 2.2</h3>\n",
      "<b>Group by</b>\n",
      "\n",
      "<ul>\n",
      "<li>Split a dataframe into groups</li>\n",
      "<li>Run analysis </li>\n",
      "<li>Then combine </li>\n",
      "</ul>\n",
      "<ul>\n",
      "<li>Grouped object is a not a single dataframe but a group of dataframes</li>\n",
      "</ul>"
     ]
    },
    {
     "cell_type": "code",
     "collapsed": false,
     "input": [
      "grouped = mlb.groupby('Year')"
     ],
     "language": "python",
     "metadata": {},
     "outputs": [],
     "prompt_number": 118
    },
    {
     "cell_type": "code",
     "collapsed": false,
     "input": [
      "type(grouped)"
     ],
     "language": "python",
     "metadata": {},
     "outputs": [
      {
       "metadata": {},
       "output_type": "pyout",
       "prompt_number": 120,
       "text": [
        "pandas.core.groupby.DataFrameGroupBy"
       ]
      }
     ],
     "prompt_number": 120
    },
    {
     "cell_type": "code",
     "collapsed": false,
     "input": [],
     "language": "python",
     "metadata": {},
     "outputs": [],
     "prompt_number": 0
    },
    {
     "cell_type": "code",
     "collapsed": false,
     "input": [
      "# generator comprehension for the highest paid player\n",
      "t = (group.sort_index(ascending=False, by=['Salary'])[:1] for yr,group in grouped)"
     ],
     "language": "python",
     "metadata": {},
     "outputs": [],
     "prompt_number": 126
    },
    {
     "cell_type": "code",
     "collapsed": false,
     "input": [
      "t"
     ],
     "language": "python",
     "metadata": {},
     "outputs": [
      {
       "metadata": {},
       "output_type": "pyout",
       "prompt_number": 127,
       "text": [
        "<generator object <genexpr> at 0x10d592500>"
       ]
      }
     ],
     "prompt_number": 127
    },
    {
     "cell_type": "markdown",
     "metadata": {},
     "source": [
      "<b>Create a dataframe with the list of highest paid players for each year</b>"
     ]
    },
    {
     "cell_type": "code",
     "collapsed": false,
     "input": [
      "topsalaries = pd.DataFrame()"
     ],
     "language": "python",
     "metadata": {},
     "outputs": [],
     "prompt_number": 124
    },
    {
     "cell_type": "code",
     "collapsed": false,
     "input": [
      "for line in t:\n",
      "    topsalaries = topsalaries.append(line)"
     ],
     "language": "python",
     "metadata": {},
     "outputs": [],
     "prompt_number": 129
    },
    {
     "cell_type": "code",
     "collapsed": false,
     "input": [
      "topsalaries"
     ],
     "language": "python",
     "metadata": {},
     "outputs": [
      {
       "html": [
        "<div style=\"max-height:1000px;max-width:1500px;overflow:auto;\">\n",
        "<table border=\"1\" class=\"dataframe\">\n",
        "  <thead>\n",
        "    <tr style=\"text-align: right;\">\n",
        "      <th></th>\n",
        "      <th>Year</th>\n",
        "      <th>Player</th>\n",
        "      <th>Salary</th>\n",
        "      <th>Position</th>\n",
        "      <th>Team</th>\n",
        "    </tr>\n",
        "  </thead>\n",
        "  <tbody>\n",
        "    <tr>\n",
        "      <th>321  </th>\n",
        "      <td> 1988</td>\n",
        "      <td>       Gary Carter</td>\n",
        "      <td>  2360714</td>\n",
        "      <td>           Catcher</td>\n",
        "      <td>       New York Mets</td>\n",
        "    </tr>\n",
        "    <tr>\n",
        "      <th>908  </th>\n",
        "      <td> 1989</td>\n",
        "      <td>    Orel Hershiser</td>\n",
        "      <td>  2766666</td>\n",
        "      <td>           Pitcher</td>\n",
        "      <td> Los Angeles Dodgers</td>\n",
        "    </tr>\n",
        "    <tr>\n",
        "      <th>1580 </th>\n",
        "      <td> 1990</td>\n",
        "      <td>       Robin Yount</td>\n",
        "      <td>  3200000</td>\n",
        "      <td>        Outfielder</td>\n",
        "      <td>   Milwaukee Brewers</td>\n",
        "    </tr>\n",
        "    <tr>\n",
        "      <th>2590 </th>\n",
        "      <td> 1991</td>\n",
        "      <td> Darryl Strawberry</td>\n",
        "      <td>  3800000</td>\n",
        "      <td>        Outfielder</td>\n",
        "      <td> Los Angeles Dodgers</td>\n",
        "    </tr>\n",
        "    <tr>\n",
        "      <th>3441 </th>\n",
        "      <td> 1992</td>\n",
        "      <td>     Bobby Bonilla</td>\n",
        "      <td>  6100000</td>\n",
        "      <td>        Outfielder</td>\n",
        "      <td>       New York Mets</td>\n",
        "    </tr>\n",
        "    <tr>\n",
        "      <th>4214 </th>\n",
        "      <td> 1993</td>\n",
        "      <td>     Bobby Bonilla</td>\n",
        "      <td>  6200000</td>\n",
        "      <td>        Outfielder</td>\n",
        "      <td>       New York Mets</td>\n",
        "    </tr>\n",
        "    <tr>\n",
        "      <th>4977 </th>\n",
        "      <td> 1994</td>\n",
        "      <td>     Bobby Bonilla</td>\n",
        "      <td>  6300000</td>\n",
        "      <td>     Third Baseman</td>\n",
        "      <td>       New York Mets</td>\n",
        "    </tr>\n",
        "    <tr>\n",
        "      <th>6068 </th>\n",
        "      <td> 1995</td>\n",
        "      <td>     Cecil Fielder</td>\n",
        "      <td>  9237500</td>\n",
        "      <td>     First Baseman</td>\n",
        "      <td>      Detroit Tigers</td>\n",
        "    </tr>\n",
        "    <tr>\n",
        "      <th>6840 </th>\n",
        "      <td> 1996</td>\n",
        "      <td>     Cecil Fielder</td>\n",
        "      <td>  9237500</td>\n",
        "      <td>     First Baseman</td>\n",
        "      <td>      Detroit Tigers</td>\n",
        "    </tr>\n",
        "    <tr>\n",
        "      <th>7666 </th>\n",
        "      <td> 1997</td>\n",
        "      <td>      Albert Belle</td>\n",
        "      <td> 10000000</td>\n",
        "      <td>        Outfielder</td>\n",
        "      <td>   Chicago White Sox</td>\n",
        "    </tr>\n",
        "    <tr>\n",
        "      <th>8090 </th>\n",
        "      <td> 1998</td>\n",
        "      <td>    Gary Sheffield</td>\n",
        "      <td> 10000000</td>\n",
        "      <td>        Outfielder</td>\n",
        "      <td>     Florida Marlins</td>\n",
        "    </tr>\n",
        "    <tr>\n",
        "      <th>9067 </th>\n",
        "      <td> 1999</td>\n",
        "      <td>      Albert Belle</td>\n",
        "      <td> 11949794</td>\n",
        "      <td>        Outfielder</td>\n",
        "      <td>   Baltimore Orioles</td>\n",
        "    </tr>\n",
        "    <tr>\n",
        "      <th>9743 </th>\n",
        "      <td> 2000</td>\n",
        "      <td>    Kevin J. Brown</td>\n",
        "      <td> 15714286</td>\n",
        "      <td>           Pitcher</td>\n",
        "      <td> Los Angeles Dodgers</td>\n",
        "    </tr>\n",
        "    <tr>\n",
        "      <th>10903</th>\n",
        "      <td> 2001</td>\n",
        "      <td>    Alex Rodriguez</td>\n",
        "      <td> 22000000</td>\n",
        "      <td>         Shortstop</td>\n",
        "      <td>       Texas Rangers</td>\n",
        "    </tr>\n",
        "    <tr>\n",
        "      <th>11752</th>\n",
        "      <td> 2002</td>\n",
        "      <td>    Alex Rodriguez</td>\n",
        "      <td> 22000000</td>\n",
        "      <td>         Shortstop</td>\n",
        "      <td>       Texas Rangers</td>\n",
        "    </tr>\n",
        "    <tr>\n",
        "      <th>12589</th>\n",
        "      <td> 2003</td>\n",
        "      <td>    Alex Rodriguez</td>\n",
        "      <td> 22000000</td>\n",
        "      <td>         Shortstop</td>\n",
        "      <td>       Texas Rangers</td>\n",
        "    </tr>\n",
        "    <tr>\n",
        "      <th>13497</th>\n",
        "      <td> 2004</td>\n",
        "      <td>     Manny Ramirez</td>\n",
        "      <td> 22500000</td>\n",
        "      <td>        Outfielder</td>\n",
        "      <td>      Boston Red Sox</td>\n",
        "    </tr>\n",
        "    <tr>\n",
        "      <th>14499</th>\n",
        "      <td> 2005</td>\n",
        "      <td>    Alex Rodriguez</td>\n",
        "      <td> 26000000</td>\n",
        "      <td>     Third Baseman</td>\n",
        "      <td>    New York Yankees</td>\n",
        "    </tr>\n",
        "    <tr>\n",
        "      <th>15320</th>\n",
        "      <td> 2006</td>\n",
        "      <td>    Alex Rodriguez</td>\n",
        "      <td> 21680727</td>\n",
        "      <td>     Third Baseman</td>\n",
        "      <td>    New York Yankees</td>\n",
        "    </tr>\n",
        "    <tr>\n",
        "      <th>16167</th>\n",
        "      <td> 2007</td>\n",
        "      <td>      Jason Giambi</td>\n",
        "      <td> 23428571</td>\n",
        "      <td> Designated Hitter</td>\n",
        "      <td>    New York Yankees</td>\n",
        "    </tr>\n",
        "    <tr>\n",
        "      <th>17023</th>\n",
        "      <td> 2008</td>\n",
        "      <td>    Alex Rodriguez</td>\n",
        "      <td> 28000000</td>\n",
        "      <td>     Third Baseman</td>\n",
        "      <td>    New York Yankees</td>\n",
        "    </tr>\n",
        "    <tr>\n",
        "      <th>17846</th>\n",
        "      <td> 2009</td>\n",
        "      <td>    Alex Rodriguez</td>\n",
        "      <td> 33000000</td>\n",
        "      <td>     Third Baseman</td>\n",
        "      <td>    New York Yankees</td>\n",
        "    </tr>\n",
        "    <tr>\n",
        "      <th>18675</th>\n",
        "      <td> 2010</td>\n",
        "      <td>    Alex Rodriguez</td>\n",
        "      <td> 33000000</td>\n",
        "      <td>     Third Baseman</td>\n",
        "      <td>    New York Yankees</td>\n",
        "    </tr>\n",
        "    <tr>\n",
        "      <th>19513</th>\n",
        "      <td> 2011</td>\n",
        "      <td>    Alex Rodriguez</td>\n",
        "      <td> 32000000</td>\n",
        "      <td>     Third Baseman</td>\n",
        "      <td>    New York Yankees</td>\n",
        "    </tr>\n",
        "  </tbody>\n",
        "</table>\n",
        "</div>"
       ],
       "metadata": {},
       "output_type": "pyout",
       "prompt_number": 130,
       "text": [
        "       Year             Player    Salary           Position  \\\n",
        "321    1988        Gary Carter   2360714            Catcher   \n",
        "908    1989     Orel Hershiser   2766666            Pitcher   \n",
        "1580   1990        Robin Yount   3200000         Outfielder   \n",
        "2590   1991  Darryl Strawberry   3800000         Outfielder   \n",
        "3441   1992      Bobby Bonilla   6100000         Outfielder   \n",
        "4214   1993      Bobby Bonilla   6200000         Outfielder   \n",
        "4977   1994      Bobby Bonilla   6300000      Third Baseman   \n",
        "6068   1995      Cecil Fielder   9237500      First Baseman   \n",
        "6840   1996      Cecil Fielder   9237500      First Baseman   \n",
        "7666   1997       Albert Belle  10000000         Outfielder   \n",
        "8090   1998     Gary Sheffield  10000000         Outfielder   \n",
        "9067   1999       Albert Belle  11949794         Outfielder   \n",
        "9743   2000     Kevin J. Brown  15714286            Pitcher   \n",
        "10903  2001     Alex Rodriguez  22000000          Shortstop   \n",
        "11752  2002     Alex Rodriguez  22000000          Shortstop   \n",
        "12589  2003     Alex Rodriguez  22000000          Shortstop   \n",
        "13497  2004      Manny Ramirez  22500000         Outfielder   \n",
        "14499  2005     Alex Rodriguez  26000000      Third Baseman   \n",
        "15320  2006     Alex Rodriguez  21680727      Third Baseman   \n",
        "16167  2007       Jason Giambi  23428571  Designated Hitter   \n",
        "17023  2008     Alex Rodriguez  28000000      Third Baseman   \n",
        "17846  2009     Alex Rodriguez  33000000      Third Baseman   \n",
        "18675  2010     Alex Rodriguez  33000000      Third Baseman   \n",
        "19513  2011     Alex Rodriguez  32000000      Third Baseman   \n",
        "\n",
        "                      Team  \n",
        "321          New York Mets  \n",
        "908    Los Angeles Dodgers  \n",
        "1580     Milwaukee Brewers  \n",
        "2590   Los Angeles Dodgers  \n",
        "3441         New York Mets  \n",
        "4214         New York Mets  \n",
        "4977         New York Mets  \n",
        "6068        Detroit Tigers  \n",
        "6840        Detroit Tigers  \n",
        "7666     Chicago White Sox  \n",
        "8090       Florida Marlins  \n",
        "9067     Baltimore Orioles  \n",
        "9743   Los Angeles Dodgers  \n",
        "10903        Texas Rangers  \n",
        "11752        Texas Rangers  \n",
        "12589        Texas Rangers  \n",
        "13497       Boston Red Sox  \n",
        "14499     New York Yankees  \n",
        "15320     New York Yankees  \n",
        "16167     New York Yankees  \n",
        "17023     New York Yankees  \n",
        "17846     New York Yankees  \n",
        "18675     New York Yankees  \n",
        "19513     New York Yankees  "
       ]
      }
     ],
     "prompt_number": 130
    },
    {
     "cell_type": "code",
     "collapsed": false,
     "input": [
      "ts = topsalaries[['Salary', 'Year']]"
     ],
     "language": "python",
     "metadata": {},
     "outputs": [],
     "prompt_number": 132
    },
    {
     "cell_type": "code",
     "collapsed": false,
     "input": [
      "ts"
     ],
     "language": "python",
     "metadata": {},
     "outputs": [
      {
       "html": [
        "<div style=\"max-height:1000px;max-width:1500px;overflow:auto;\">\n",
        "<table border=\"1\" class=\"dataframe\">\n",
        "  <thead>\n",
        "    <tr style=\"text-align: right;\">\n",
        "      <th></th>\n",
        "      <th>Salary</th>\n",
        "      <th>Year</th>\n",
        "    </tr>\n",
        "  </thead>\n",
        "  <tbody>\n",
        "    <tr>\n",
        "      <th>321  </th>\n",
        "      <td>  2360714</td>\n",
        "      <td> 1988</td>\n",
        "    </tr>\n",
        "    <tr>\n",
        "      <th>908  </th>\n",
        "      <td>  2766666</td>\n",
        "      <td> 1989</td>\n",
        "    </tr>\n",
        "    <tr>\n",
        "      <th>1580 </th>\n",
        "      <td>  3200000</td>\n",
        "      <td> 1990</td>\n",
        "    </tr>\n",
        "    <tr>\n",
        "      <th>2590 </th>\n",
        "      <td>  3800000</td>\n",
        "      <td> 1991</td>\n",
        "    </tr>\n",
        "    <tr>\n",
        "      <th>3441 </th>\n",
        "      <td>  6100000</td>\n",
        "      <td> 1992</td>\n",
        "    </tr>\n",
        "    <tr>\n",
        "      <th>4214 </th>\n",
        "      <td>  6200000</td>\n",
        "      <td> 1993</td>\n",
        "    </tr>\n",
        "    <tr>\n",
        "      <th>4977 </th>\n",
        "      <td>  6300000</td>\n",
        "      <td> 1994</td>\n",
        "    </tr>\n",
        "    <tr>\n",
        "      <th>6068 </th>\n",
        "      <td>  9237500</td>\n",
        "      <td> 1995</td>\n",
        "    </tr>\n",
        "    <tr>\n",
        "      <th>6840 </th>\n",
        "      <td>  9237500</td>\n",
        "      <td> 1996</td>\n",
        "    </tr>\n",
        "    <tr>\n",
        "      <th>7666 </th>\n",
        "      <td> 10000000</td>\n",
        "      <td> 1997</td>\n",
        "    </tr>\n",
        "    <tr>\n",
        "      <th>8090 </th>\n",
        "      <td> 10000000</td>\n",
        "      <td> 1998</td>\n",
        "    </tr>\n",
        "    <tr>\n",
        "      <th>9067 </th>\n",
        "      <td> 11949794</td>\n",
        "      <td> 1999</td>\n",
        "    </tr>\n",
        "    <tr>\n",
        "      <th>9743 </th>\n",
        "      <td> 15714286</td>\n",
        "      <td> 2000</td>\n",
        "    </tr>\n",
        "    <tr>\n",
        "      <th>10903</th>\n",
        "      <td> 22000000</td>\n",
        "      <td> 2001</td>\n",
        "    </tr>\n",
        "    <tr>\n",
        "      <th>11752</th>\n",
        "      <td> 22000000</td>\n",
        "      <td> 2002</td>\n",
        "    </tr>\n",
        "    <tr>\n",
        "      <th>12589</th>\n",
        "      <td> 22000000</td>\n",
        "      <td> 2003</td>\n",
        "    </tr>\n",
        "    <tr>\n",
        "      <th>13497</th>\n",
        "      <td> 22500000</td>\n",
        "      <td> 2004</td>\n",
        "    </tr>\n",
        "    <tr>\n",
        "      <th>14499</th>\n",
        "      <td> 26000000</td>\n",
        "      <td> 2005</td>\n",
        "    </tr>\n",
        "    <tr>\n",
        "      <th>15320</th>\n",
        "      <td> 21680727</td>\n",
        "      <td> 2006</td>\n",
        "    </tr>\n",
        "    <tr>\n",
        "      <th>16167</th>\n",
        "      <td> 23428571</td>\n",
        "      <td> 2007</td>\n",
        "    </tr>\n",
        "    <tr>\n",
        "      <th>17023</th>\n",
        "      <td> 28000000</td>\n",
        "      <td> 2008</td>\n",
        "    </tr>\n",
        "    <tr>\n",
        "      <th>17846</th>\n",
        "      <td> 33000000</td>\n",
        "      <td> 2009</td>\n",
        "    </tr>\n",
        "    <tr>\n",
        "      <th>18675</th>\n",
        "      <td> 33000000</td>\n",
        "      <td> 2010</td>\n",
        "    </tr>\n",
        "    <tr>\n",
        "      <th>19513</th>\n",
        "      <td> 32000000</td>\n",
        "      <td> 2011</td>\n",
        "    </tr>\n",
        "  </tbody>\n",
        "</table>\n",
        "</div>"
       ],
       "metadata": {},
       "output_type": "pyout",
       "prompt_number": 133,
       "text": [
        "         Salary  Year\n",
        "321     2360714  1988\n",
        "908     2766666  1989\n",
        "1580    3200000  1990\n",
        "2590    3800000  1991\n",
        "3441    6100000  1992\n",
        "4214    6200000  1993\n",
        "4977    6300000  1994\n",
        "6068    9237500  1995\n",
        "6840    9237500  1996\n",
        "7666   10000000  1997\n",
        "8090   10000000  1998\n",
        "9067   11949794  1999\n",
        "9743   15714286  2000\n",
        "10903  22000000  2001\n",
        "11752  22000000  2002\n",
        "12589  22000000  2003\n",
        "13497  22500000  2004\n",
        "14499  26000000  2005\n",
        "15320  21680727  2006\n",
        "16167  23428571  2007\n",
        "17023  28000000  2008\n",
        "17846  33000000  2009\n",
        "18675  33000000  2010\n",
        "19513  32000000  2011"
       ]
      }
     ],
     "prompt_number": 133
    },
    {
     "cell_type": "code",
     "collapsed": false,
     "input": [
      "ts.set_index('Year')"
     ],
     "language": "python",
     "metadata": {},
     "outputs": [
      {
       "html": [
        "<div style=\"max-height:1000px;max-width:1500px;overflow:auto;\">\n",
        "<table border=\"1\" class=\"dataframe\">\n",
        "  <thead>\n",
        "    <tr style=\"text-align: right;\">\n",
        "      <th></th>\n",
        "      <th>Salary</th>\n",
        "    </tr>\n",
        "    <tr>\n",
        "      <th>Year</th>\n",
        "      <th></th>\n",
        "    </tr>\n",
        "  </thead>\n",
        "  <tbody>\n",
        "    <tr>\n",
        "      <th>1988</th>\n",
        "      <td>  2360714</td>\n",
        "    </tr>\n",
        "    <tr>\n",
        "      <th>1989</th>\n",
        "      <td>  2766666</td>\n",
        "    </tr>\n",
        "    <tr>\n",
        "      <th>1990</th>\n",
        "      <td>  3200000</td>\n",
        "    </tr>\n",
        "    <tr>\n",
        "      <th>1991</th>\n",
        "      <td>  3800000</td>\n",
        "    </tr>\n",
        "    <tr>\n",
        "      <th>1992</th>\n",
        "      <td>  6100000</td>\n",
        "    </tr>\n",
        "    <tr>\n",
        "      <th>1993</th>\n",
        "      <td>  6200000</td>\n",
        "    </tr>\n",
        "    <tr>\n",
        "      <th>1994</th>\n",
        "      <td>  6300000</td>\n",
        "    </tr>\n",
        "    <tr>\n",
        "      <th>1995</th>\n",
        "      <td>  9237500</td>\n",
        "    </tr>\n",
        "    <tr>\n",
        "      <th>1996</th>\n",
        "      <td>  9237500</td>\n",
        "    </tr>\n",
        "    <tr>\n",
        "      <th>1997</th>\n",
        "      <td> 10000000</td>\n",
        "    </tr>\n",
        "    <tr>\n",
        "      <th>1998</th>\n",
        "      <td> 10000000</td>\n",
        "    </tr>\n",
        "    <tr>\n",
        "      <th>1999</th>\n",
        "      <td> 11949794</td>\n",
        "    </tr>\n",
        "    <tr>\n",
        "      <th>2000</th>\n",
        "      <td> 15714286</td>\n",
        "    </tr>\n",
        "    <tr>\n",
        "      <th>2001</th>\n",
        "      <td> 22000000</td>\n",
        "    </tr>\n",
        "    <tr>\n",
        "      <th>2002</th>\n",
        "      <td> 22000000</td>\n",
        "    </tr>\n",
        "    <tr>\n",
        "      <th>2003</th>\n",
        "      <td> 22000000</td>\n",
        "    </tr>\n",
        "    <tr>\n",
        "      <th>2004</th>\n",
        "      <td> 22500000</td>\n",
        "    </tr>\n",
        "    <tr>\n",
        "      <th>2005</th>\n",
        "      <td> 26000000</td>\n",
        "    </tr>\n",
        "    <tr>\n",
        "      <th>2006</th>\n",
        "      <td> 21680727</td>\n",
        "    </tr>\n",
        "    <tr>\n",
        "      <th>2007</th>\n",
        "      <td> 23428571</td>\n",
        "    </tr>\n",
        "    <tr>\n",
        "      <th>2008</th>\n",
        "      <td> 28000000</td>\n",
        "    </tr>\n",
        "    <tr>\n",
        "      <th>2009</th>\n",
        "      <td> 33000000</td>\n",
        "    </tr>\n",
        "    <tr>\n",
        "      <th>2010</th>\n",
        "      <td> 33000000</td>\n",
        "    </tr>\n",
        "    <tr>\n",
        "      <th>2011</th>\n",
        "      <td> 32000000</td>\n",
        "    </tr>\n",
        "  </tbody>\n",
        "</table>\n",
        "</div>"
       ],
       "metadata": {},
       "output_type": "pyout",
       "prompt_number": 134,
       "text": [
        "        Salary\n",
        "Year          \n",
        "1988   2360714\n",
        "1989   2766666\n",
        "1990   3200000\n",
        "1991   3800000\n",
        "1992   6100000\n",
        "1993   6200000\n",
        "1994   6300000\n",
        "1995   9237500\n",
        "1996   9237500\n",
        "1997  10000000\n",
        "1998  10000000\n",
        "1999  11949794\n",
        "2000  15714286\n",
        "2001  22000000\n",
        "2002  22000000\n",
        "2003  22000000\n",
        "2004  22500000\n",
        "2005  26000000\n",
        "2006  21680727\n",
        "2007  23428571\n",
        "2008  28000000\n",
        "2009  33000000\n",
        "2010  33000000\n",
        "2011  32000000"
       ]
      }
     ],
     "prompt_number": 134
    },
    {
     "cell_type": "code",
     "collapsed": false,
     "input": [
      "ts.plot()"
     ],
     "language": "python",
     "metadata": {},
     "outputs": [
      {
       "metadata": {},
       "output_type": "pyout",
       "prompt_number": 135,
       "text": [
        "<matplotlib.axes._subplots.AxesSubplot at 0x10be0cc10>"
       ]
      }
     ],
     "prompt_number": 135
    },
    {
     "cell_type": "code",
     "collapsed": false,
     "input": [
      "print ts.plot()"
     ],
     "language": "python",
     "metadata": {},
     "outputs": [
      {
       "output_type": "stream",
       "stream": "stdout",
       "text": [
        "Axes(0.125,0.1;0.775x0.8)\n"
       ]
      }
     ],
     "prompt_number": 136
    },
    {
     "cell_type": "code",
     "collapsed": false,
     "input": [],
     "language": "python",
     "metadata": {},
     "outputs": [],
     "prompt_number": 143
    },
    {
     "cell_type": "code",
     "collapsed": false,
     "input": [
      "turnstile = pd.read_csv(\"/Users/savioabuga/Documents/DataScience/data/turnstile.csv\")"
     ],
     "language": "python",
     "metadata": {},
     "outputs": [],
     "prompt_number": 148
    },
    {
     "cell_type": "code",
     "collapsed": false,
     "input": [
      "turnstile"
     ],
     "language": "python",
     "metadata": {},
     "outputs": [
      {
       "html": [
        "<div style=\"max-height:1000px;max-width:1500px;overflow:auto;\">\n",
        "<table border=\"1\" class=\"dataframe\">\n",
        "  <thead>\n",
        "    <tr style=\"text-align: right;\">\n",
        "      <th></th>\n",
        "      <th>C/A</th>\n",
        "      <th>UNIT</th>\n",
        "      <th>SCP</th>\n",
        "      <th>DATEn</th>\n",
        "      <th>TIMEn</th>\n",
        "      <th>DESCn</th>\n",
        "      <th>ENTRIESn</th>\n",
        "      <th>EXITSn</th>\n",
        "    </tr>\n",
        "  </thead>\n",
        "  <tbody>\n",
        "    <tr>\n",
        "      <th>0 </th>\n",
        "      <td> A002</td>\n",
        "      <td> R051</td>\n",
        "      <td> 02-00-00</td>\n",
        "      <td> 05-01-11</td>\n",
        "      <td> 00:00:00</td>\n",
        "      <td> REGULAR</td>\n",
        "      <td> 3144312</td>\n",
        "      <td> 1088151</td>\n",
        "    </tr>\n",
        "    <tr>\n",
        "      <th>1 </th>\n",
        "      <td> A002</td>\n",
        "      <td> R051</td>\n",
        "      <td> 02-00-00</td>\n",
        "      <td> 05-01-11</td>\n",
        "      <td> 04:00:00</td>\n",
        "      <td> REGULAR</td>\n",
        "      <td> 3144335</td>\n",
        "      <td> 1088159</td>\n",
        "    </tr>\n",
        "    <tr>\n",
        "      <th>2 </th>\n",
        "      <td> A002</td>\n",
        "      <td> R051</td>\n",
        "      <td> 02-00-00</td>\n",
        "      <td> 05-01-11</td>\n",
        "      <td> 08:00:00</td>\n",
        "      <td> REGULAR</td>\n",
        "      <td> 3144353</td>\n",
        "      <td> 1088177</td>\n",
        "    </tr>\n",
        "    <tr>\n",
        "      <th>3 </th>\n",
        "      <td> A002</td>\n",
        "      <td> R051</td>\n",
        "      <td> 02-00-00</td>\n",
        "      <td> 05-01-11</td>\n",
        "      <td> 12:00:00</td>\n",
        "      <td> REGULAR</td>\n",
        "      <td> 3144424</td>\n",
        "      <td> 1088231</td>\n",
        "    </tr>\n",
        "    <tr>\n",
        "      <th>4 </th>\n",
        "      <td> A002</td>\n",
        "      <td> R051</td>\n",
        "      <td> 02-00-00</td>\n",
        "      <td> 05-01-11</td>\n",
        "      <td> 16:00:00</td>\n",
        "      <td> REGULAR</td>\n",
        "      <td> 3144594</td>\n",
        "      <td> 1088275</td>\n",
        "    </tr>\n",
        "    <tr>\n",
        "      <th>5 </th>\n",
        "      <td> A002</td>\n",
        "      <td> R051</td>\n",
        "      <td> 02-00-00</td>\n",
        "      <td> 05-01-11</td>\n",
        "      <td> 20:00:00</td>\n",
        "      <td> REGULAR</td>\n",
        "      <td> 3144808</td>\n",
        "      <td> 1088317</td>\n",
        "    </tr>\n",
        "    <tr>\n",
        "      <th>6 </th>\n",
        "      <td> A002</td>\n",
        "      <td> R051</td>\n",
        "      <td> 02-00-00</td>\n",
        "      <td> 05-02-11</td>\n",
        "      <td> 00:00:00</td>\n",
        "      <td> REGULAR</td>\n",
        "      <td> 3144895</td>\n",
        "      <td> 1088328</td>\n",
        "    </tr>\n",
        "    <tr>\n",
        "      <th>7 </th>\n",
        "      <td> A002</td>\n",
        "      <td> R051</td>\n",
        "      <td> 02-00-00</td>\n",
        "      <td> 05-02-11</td>\n",
        "      <td> 04:00:00</td>\n",
        "      <td> REGULAR</td>\n",
        "      <td> 3144905</td>\n",
        "      <td> 1088331</td>\n",
        "    </tr>\n",
        "    <tr>\n",
        "      <th>8 </th>\n",
        "      <td> A002</td>\n",
        "      <td> R051</td>\n",
        "      <td> 02-00-00</td>\n",
        "      <td> 05-02-11</td>\n",
        "      <td> 08:00:00</td>\n",
        "      <td> REGULAR</td>\n",
        "      <td> 3144941</td>\n",
        "      <td> 1088420</td>\n",
        "    </tr>\n",
        "    <tr>\n",
        "      <th>9 </th>\n",
        "      <td> A002</td>\n",
        "      <td> R051</td>\n",
        "      <td> 02-00-00</td>\n",
        "      <td> 05-02-11</td>\n",
        "      <td> 12:00:00</td>\n",
        "      <td> REGULAR</td>\n",
        "      <td> 3145094</td>\n",
        "      <td> 1088753</td>\n",
        "    </tr>\n",
        "    <tr>\n",
        "      <th>10</th>\n",
        "      <td> A002</td>\n",
        "      <td> R051</td>\n",
        "      <td> 02-00-00</td>\n",
        "      <td> 05-02-11</td>\n",
        "      <td> 16:00:00</td>\n",
        "      <td> REGULAR</td>\n",
        "      <td> 3145337</td>\n",
        "      <td> 1088823</td>\n",
        "    </tr>\n",
        "  </tbody>\n",
        "</table>\n",
        "</div>"
       ],
       "metadata": {},
       "output_type": "pyout",
       "prompt_number": 149,
       "text": [
        "     C/A  UNIT       SCP     DATEn     TIMEn    DESCn  ENTRIESn   EXITSn\n",
        "0   A002  R051  02-00-00  05-01-11  00:00:00  REGULAR   3144312  1088151\n",
        "1   A002  R051  02-00-00  05-01-11  04:00:00  REGULAR   3144335  1088159\n",
        "2   A002  R051  02-00-00  05-01-11  08:00:00  REGULAR   3144353  1088177\n",
        "3   A002  R051  02-00-00  05-01-11  12:00:00  REGULAR   3144424  1088231\n",
        "4   A002  R051  02-00-00  05-01-11  16:00:00  REGULAR   3144594  1088275\n",
        "5   A002  R051  02-00-00  05-01-11  20:00:00  REGULAR   3144808  1088317\n",
        "6   A002  R051  02-00-00  05-02-11  00:00:00  REGULAR   3144895  1088328\n",
        "7   A002  R051  02-00-00  05-02-11  04:00:00  REGULAR   3144905  1088331\n",
        "8   A002  R051  02-00-00  05-02-11  08:00:00  REGULAR   3144941  1088420\n",
        "9   A002  R051  02-00-00  05-02-11  12:00:00  REGULAR   3145094  1088753\n",
        "10  A002  R051  02-00-00  05-02-11  16:00:00  REGULAR   3145337  1088823"
       ]
      }
     ],
     "prompt_number": 149
    },
    {
     "cell_type": "code",
     "collapsed": false,
     "input": [
      "entries = turnstile['ENTRIESn']"
     ],
     "language": "python",
     "metadata": {},
     "outputs": [],
     "prompt_number": 150
    },
    {
     "cell_type": "code",
     "collapsed": false,
     "input": [
      "entries"
     ],
     "language": "python",
     "metadata": {},
     "outputs": [
      {
       "metadata": {},
       "output_type": "pyout",
       "prompt_number": 152,
       "text": [
        "0     3144312\n",
        "1     3144335\n",
        "2     3144353\n",
        "3     3144424\n",
        "4     3144594\n",
        "5     3144808\n",
        "6     3144895\n",
        "7     3144905\n",
        "8     3144941\n",
        "9     3145094\n",
        "10    3145337\n",
        "Name: ENTRIESn, dtype: int64"
       ]
      }
     ],
     "prompt_number": 152
    },
    {
     "cell_type": "code",
     "collapsed": false,
     "input": [],
     "language": "python",
     "metadata": {},
     "outputs": [],
     "prompt_number": 217
    },
    {
     "cell_type": "code",
     "collapsed": false,
     "input": [
      "new_entry = [np.nan]\n",
      "for i in range(len(entries)-1):\n",
      "    new_entry.append(entries[i+1] - entries[i])\n",
      "turnstile['ENTRIESn_hourly'] =  pd.Series(new_entry)"
     ],
     "language": "python",
     "metadata": {},
     "outputs": [],
     "prompt_number": 218
    },
    {
     "cell_type": "code",
     "collapsed": false,
     "input": [
      "turnstile.fillna(1)"
     ],
     "language": "python",
     "metadata": {},
     "outputs": [
      {
       "html": [
        "<div style=\"max-height:1000px;max-width:1500px;overflow:auto;\">\n",
        "<table border=\"1\" class=\"dataframe\">\n",
        "  <thead>\n",
        "    <tr style=\"text-align: right;\">\n",
        "      <th></th>\n",
        "      <th>C/A</th>\n",
        "      <th>UNIT</th>\n",
        "      <th>SCP</th>\n",
        "      <th>DATEn</th>\n",
        "      <th>TIMEn</th>\n",
        "      <th>DESCn</th>\n",
        "      <th>ENTRIESn</th>\n",
        "      <th>EXITSn</th>\n",
        "      <th>ENTRIESn_hourly</th>\n",
        "    </tr>\n",
        "  </thead>\n",
        "  <tbody>\n",
        "    <tr>\n",
        "      <th>0 </th>\n",
        "      <td> A002</td>\n",
        "      <td> R051</td>\n",
        "      <td> 02-00-00</td>\n",
        "      <td> 05-01-11</td>\n",
        "      <td> 00:00:00</td>\n",
        "      <td> REGULAR</td>\n",
        "      <td> 3144312</td>\n",
        "      <td> 1088151</td>\n",
        "      <td>   1</td>\n",
        "    </tr>\n",
        "    <tr>\n",
        "      <th>1 </th>\n",
        "      <td> A002</td>\n",
        "      <td> R051</td>\n",
        "      <td> 02-00-00</td>\n",
        "      <td> 05-01-11</td>\n",
        "      <td> 04:00:00</td>\n",
        "      <td> REGULAR</td>\n",
        "      <td> 3144335</td>\n",
        "      <td> 1088159</td>\n",
        "      <td>  23</td>\n",
        "    </tr>\n",
        "    <tr>\n",
        "      <th>2 </th>\n",
        "      <td> A002</td>\n",
        "      <td> R051</td>\n",
        "      <td> 02-00-00</td>\n",
        "      <td> 05-01-11</td>\n",
        "      <td> 08:00:00</td>\n",
        "      <td> REGULAR</td>\n",
        "      <td> 3144353</td>\n",
        "      <td> 1088177</td>\n",
        "      <td>  18</td>\n",
        "    </tr>\n",
        "    <tr>\n",
        "      <th>3 </th>\n",
        "      <td> A002</td>\n",
        "      <td> R051</td>\n",
        "      <td> 02-00-00</td>\n",
        "      <td> 05-01-11</td>\n",
        "      <td> 12:00:00</td>\n",
        "      <td> REGULAR</td>\n",
        "      <td> 3144424</td>\n",
        "      <td> 1088231</td>\n",
        "      <td>  71</td>\n",
        "    </tr>\n",
        "    <tr>\n",
        "      <th>4 </th>\n",
        "      <td> A002</td>\n",
        "      <td> R051</td>\n",
        "      <td> 02-00-00</td>\n",
        "      <td> 05-01-11</td>\n",
        "      <td> 16:00:00</td>\n",
        "      <td> REGULAR</td>\n",
        "      <td> 3144594</td>\n",
        "      <td> 1088275</td>\n",
        "      <td> 170</td>\n",
        "    </tr>\n",
        "    <tr>\n",
        "      <th>5 </th>\n",
        "      <td> A002</td>\n",
        "      <td> R051</td>\n",
        "      <td> 02-00-00</td>\n",
        "      <td> 05-01-11</td>\n",
        "      <td> 20:00:00</td>\n",
        "      <td> REGULAR</td>\n",
        "      <td> 3144808</td>\n",
        "      <td> 1088317</td>\n",
        "      <td> 214</td>\n",
        "    </tr>\n",
        "    <tr>\n",
        "      <th>6 </th>\n",
        "      <td> A002</td>\n",
        "      <td> R051</td>\n",
        "      <td> 02-00-00</td>\n",
        "      <td> 05-02-11</td>\n",
        "      <td> 00:00:00</td>\n",
        "      <td> REGULAR</td>\n",
        "      <td> 3144895</td>\n",
        "      <td> 1088328</td>\n",
        "      <td>  87</td>\n",
        "    </tr>\n",
        "    <tr>\n",
        "      <th>7 </th>\n",
        "      <td> A002</td>\n",
        "      <td> R051</td>\n",
        "      <td> 02-00-00</td>\n",
        "      <td> 05-02-11</td>\n",
        "      <td> 04:00:00</td>\n",
        "      <td> REGULAR</td>\n",
        "      <td> 3144905</td>\n",
        "      <td> 1088331</td>\n",
        "      <td>  10</td>\n",
        "    </tr>\n",
        "    <tr>\n",
        "      <th>8 </th>\n",
        "      <td> A002</td>\n",
        "      <td> R051</td>\n",
        "      <td> 02-00-00</td>\n",
        "      <td> 05-02-11</td>\n",
        "      <td> 08:00:00</td>\n",
        "      <td> REGULAR</td>\n",
        "      <td> 3144941</td>\n",
        "      <td> 1088420</td>\n",
        "      <td>  36</td>\n",
        "    </tr>\n",
        "    <tr>\n",
        "      <th>9 </th>\n",
        "      <td> A002</td>\n",
        "      <td> R051</td>\n",
        "      <td> 02-00-00</td>\n",
        "      <td> 05-02-11</td>\n",
        "      <td> 12:00:00</td>\n",
        "      <td> REGULAR</td>\n",
        "      <td> 3145094</td>\n",
        "      <td> 1088753</td>\n",
        "      <td> 153</td>\n",
        "    </tr>\n",
        "    <tr>\n",
        "      <th>10</th>\n",
        "      <td> A002</td>\n",
        "      <td> R051</td>\n",
        "      <td> 02-00-00</td>\n",
        "      <td> 05-02-11</td>\n",
        "      <td> 16:00:00</td>\n",
        "      <td> REGULAR</td>\n",
        "      <td> 3145337</td>\n",
        "      <td> 1088823</td>\n",
        "      <td> 243</td>\n",
        "    </tr>\n",
        "  </tbody>\n",
        "</table>\n",
        "</div>"
       ],
       "metadata": {},
       "output_type": "pyout",
       "prompt_number": 219,
       "text": [
        "     C/A  UNIT       SCP     DATEn     TIMEn    DESCn  ENTRIESn   EXITSn  \\\n",
        "0   A002  R051  02-00-00  05-01-11  00:00:00  REGULAR   3144312  1088151   \n",
        "1   A002  R051  02-00-00  05-01-11  04:00:00  REGULAR   3144335  1088159   \n",
        "2   A002  R051  02-00-00  05-01-11  08:00:00  REGULAR   3144353  1088177   \n",
        "3   A002  R051  02-00-00  05-01-11  12:00:00  REGULAR   3144424  1088231   \n",
        "4   A002  R051  02-00-00  05-01-11  16:00:00  REGULAR   3144594  1088275   \n",
        "5   A002  R051  02-00-00  05-01-11  20:00:00  REGULAR   3144808  1088317   \n",
        "6   A002  R051  02-00-00  05-02-11  00:00:00  REGULAR   3144895  1088328   \n",
        "7   A002  R051  02-00-00  05-02-11  04:00:00  REGULAR   3144905  1088331   \n",
        "8   A002  R051  02-00-00  05-02-11  08:00:00  REGULAR   3144941  1088420   \n",
        "9   A002  R051  02-00-00  05-02-11  12:00:00  REGULAR   3145094  1088753   \n",
        "10  A002  R051  02-00-00  05-02-11  16:00:00  REGULAR   3145337  1088823   \n",
        "\n",
        "    ENTRIESn_hourly  \n",
        "0                 1  \n",
        "1                23  \n",
        "2                18  \n",
        "3                71  \n",
        "4               170  \n",
        "5               214  \n",
        "6                87  \n",
        "7                10  \n",
        "8                36  \n",
        "9               153  \n",
        "10              243  "
       ]
      }
     ],
     "prompt_number": 219
    },
    {
     "cell_type": "code",
     "collapsed": false,
     "input": [
      "turnstile"
     ],
     "language": "python",
     "metadata": {},
     "outputs": [
      {
       "html": [
        "<div style=\"max-height:1000px;max-width:1500px;overflow:auto;\">\n",
        "<table border=\"1\" class=\"dataframe\">\n",
        "  <thead>\n",
        "    <tr style=\"text-align: right;\">\n",
        "      <th></th>\n",
        "      <th>C/A</th>\n",
        "      <th>UNIT</th>\n",
        "      <th>SCP</th>\n",
        "      <th>DATEn</th>\n",
        "      <th>TIMEn</th>\n",
        "      <th>DESCn</th>\n",
        "      <th>ENTRIESn</th>\n",
        "      <th>EXITSn</th>\n",
        "      <th>ENTRIESn_hourly</th>\n",
        "    </tr>\n",
        "  </thead>\n",
        "  <tbody>\n",
        "    <tr>\n",
        "      <th>0 </th>\n",
        "      <td> A002</td>\n",
        "      <td> R051</td>\n",
        "      <td> 02-00-00</td>\n",
        "      <td> 05-01-11</td>\n",
        "      <td> 00:00:00</td>\n",
        "      <td> REGULAR</td>\n",
        "      <td> 3144312</td>\n",
        "      <td> 1088151</td>\n",
        "      <td> NaN</td>\n",
        "    </tr>\n",
        "    <tr>\n",
        "      <th>1 </th>\n",
        "      <td> A002</td>\n",
        "      <td> R051</td>\n",
        "      <td> 02-00-00</td>\n",
        "      <td> 05-01-11</td>\n",
        "      <td> 04:00:00</td>\n",
        "      <td> REGULAR</td>\n",
        "      <td> 3144335</td>\n",
        "      <td> 1088159</td>\n",
        "      <td>  23</td>\n",
        "    </tr>\n",
        "    <tr>\n",
        "      <th>2 </th>\n",
        "      <td> A002</td>\n",
        "      <td> R051</td>\n",
        "      <td> 02-00-00</td>\n",
        "      <td> 05-01-11</td>\n",
        "      <td> 08:00:00</td>\n",
        "      <td> REGULAR</td>\n",
        "      <td> 3144353</td>\n",
        "      <td> 1088177</td>\n",
        "      <td>  18</td>\n",
        "    </tr>\n",
        "    <tr>\n",
        "      <th>3 </th>\n",
        "      <td> A002</td>\n",
        "      <td> R051</td>\n",
        "      <td> 02-00-00</td>\n",
        "      <td> 05-01-11</td>\n",
        "      <td> 12:00:00</td>\n",
        "      <td> REGULAR</td>\n",
        "      <td> 3144424</td>\n",
        "      <td> 1088231</td>\n",
        "      <td>  71</td>\n",
        "    </tr>\n",
        "    <tr>\n",
        "      <th>4 </th>\n",
        "      <td> A002</td>\n",
        "      <td> R051</td>\n",
        "      <td> 02-00-00</td>\n",
        "      <td> 05-01-11</td>\n",
        "      <td> 16:00:00</td>\n",
        "      <td> REGULAR</td>\n",
        "      <td> 3144594</td>\n",
        "      <td> 1088275</td>\n",
        "      <td> 170</td>\n",
        "    </tr>\n",
        "    <tr>\n",
        "      <th>5 </th>\n",
        "      <td> A002</td>\n",
        "      <td> R051</td>\n",
        "      <td> 02-00-00</td>\n",
        "      <td> 05-01-11</td>\n",
        "      <td> 20:00:00</td>\n",
        "      <td> REGULAR</td>\n",
        "      <td> 3144808</td>\n",
        "      <td> 1088317</td>\n",
        "      <td> 214</td>\n",
        "    </tr>\n",
        "    <tr>\n",
        "      <th>6 </th>\n",
        "      <td> A002</td>\n",
        "      <td> R051</td>\n",
        "      <td> 02-00-00</td>\n",
        "      <td> 05-02-11</td>\n",
        "      <td> 00:00:00</td>\n",
        "      <td> REGULAR</td>\n",
        "      <td> 3144895</td>\n",
        "      <td> 1088328</td>\n",
        "      <td>  87</td>\n",
        "    </tr>\n",
        "    <tr>\n",
        "      <th>7 </th>\n",
        "      <td> A002</td>\n",
        "      <td> R051</td>\n",
        "      <td> 02-00-00</td>\n",
        "      <td> 05-02-11</td>\n",
        "      <td> 04:00:00</td>\n",
        "      <td> REGULAR</td>\n",
        "      <td> 3144905</td>\n",
        "      <td> 1088331</td>\n",
        "      <td>  10</td>\n",
        "    </tr>\n",
        "    <tr>\n",
        "      <th>8 </th>\n",
        "      <td> A002</td>\n",
        "      <td> R051</td>\n",
        "      <td> 02-00-00</td>\n",
        "      <td> 05-02-11</td>\n",
        "      <td> 08:00:00</td>\n",
        "      <td> REGULAR</td>\n",
        "      <td> 3144941</td>\n",
        "      <td> 1088420</td>\n",
        "      <td>  36</td>\n",
        "    </tr>\n",
        "    <tr>\n",
        "      <th>9 </th>\n",
        "      <td> A002</td>\n",
        "      <td> R051</td>\n",
        "      <td> 02-00-00</td>\n",
        "      <td> 05-02-11</td>\n",
        "      <td> 12:00:00</td>\n",
        "      <td> REGULAR</td>\n",
        "      <td> 3145094</td>\n",
        "      <td> 1088753</td>\n",
        "      <td> 153</td>\n",
        "    </tr>\n",
        "    <tr>\n",
        "      <th>10</th>\n",
        "      <td> A002</td>\n",
        "      <td> R051</td>\n",
        "      <td> 02-00-00</td>\n",
        "      <td> 05-02-11</td>\n",
        "      <td> 16:00:00</td>\n",
        "      <td> REGULAR</td>\n",
        "      <td> 3145337</td>\n",
        "      <td> 1088823</td>\n",
        "      <td> 243</td>\n",
        "    </tr>\n",
        "  </tbody>\n",
        "</table>\n",
        "</div>"
       ],
       "metadata": {},
       "output_type": "pyout",
       "prompt_number": 220,
       "text": [
        "     C/A  UNIT       SCP     DATEn     TIMEn    DESCn  ENTRIESn   EXITSn  \\\n",
        "0   A002  R051  02-00-00  05-01-11  00:00:00  REGULAR   3144312  1088151   \n",
        "1   A002  R051  02-00-00  05-01-11  04:00:00  REGULAR   3144335  1088159   \n",
        "2   A002  R051  02-00-00  05-01-11  08:00:00  REGULAR   3144353  1088177   \n",
        "3   A002  R051  02-00-00  05-01-11  12:00:00  REGULAR   3144424  1088231   \n",
        "4   A002  R051  02-00-00  05-01-11  16:00:00  REGULAR   3144594  1088275   \n",
        "5   A002  R051  02-00-00  05-01-11  20:00:00  REGULAR   3144808  1088317   \n",
        "6   A002  R051  02-00-00  05-02-11  00:00:00  REGULAR   3144895  1088328   \n",
        "7   A002  R051  02-00-00  05-02-11  04:00:00  REGULAR   3144905  1088331   \n",
        "8   A002  R051  02-00-00  05-02-11  08:00:00  REGULAR   3144941  1088420   \n",
        "9   A002  R051  02-00-00  05-02-11  12:00:00  REGULAR   3145094  1088753   \n",
        "10  A002  R051  02-00-00  05-02-11  16:00:00  REGULAR   3145337  1088823   \n",
        "\n",
        "    ENTRIESn_hourly  \n",
        "0               NaN  \n",
        "1                23  \n",
        "2                18  \n",
        "3                71  \n",
        "4               170  \n",
        "5               214  \n",
        "6                87  \n",
        "7                10  \n",
        "8                36  \n",
        "9               153  \n",
        "10              243  "
       ]
      }
     ],
     "prompt_number": 220
    },
    {
     "cell_type": "code",
     "collapsed": false,
     "input": [
      "turnstile['test'] = turnstile.ENTRIESn.shift(1)"
     ],
     "language": "python",
     "metadata": {},
     "outputs": [],
     "prompt_number": 223
    },
    {
     "cell_type": "code",
     "collapsed": false,
     "input": [
      "turnstile['ENTRIES2n_hourly'] = turnstile['ENTRIESn'] - turnstile['test']"
     ],
     "language": "python",
     "metadata": {},
     "outputs": [],
     "prompt_number": 227
    },
    {
     "cell_type": "code",
     "collapsed": false,
     "input": [
      "turnstile"
     ],
     "language": "python",
     "metadata": {},
     "outputs": [
      {
       "html": [
        "<div style=\"max-height:1000px;max-width:1500px;overflow:auto;\">\n",
        "<table border=\"1\" class=\"dataframe\">\n",
        "  <thead>\n",
        "    <tr style=\"text-align: right;\">\n",
        "      <th></th>\n",
        "      <th>C/A</th>\n",
        "      <th>UNIT</th>\n",
        "      <th>SCP</th>\n",
        "      <th>DATEn</th>\n",
        "      <th>TIMEn</th>\n",
        "      <th>DESCn</th>\n",
        "      <th>ENTRIESn</th>\n",
        "      <th>EXITSn</th>\n",
        "      <th>ENTRIESn_hourly</th>\n",
        "      <th>test</th>\n",
        "      <th>ENTRIES2n_hourly</th>\n",
        "    </tr>\n",
        "  </thead>\n",
        "  <tbody>\n",
        "    <tr>\n",
        "      <th>0 </th>\n",
        "      <td> A002</td>\n",
        "      <td> R051</td>\n",
        "      <td> 02-00-00</td>\n",
        "      <td> 05-01-11</td>\n",
        "      <td> 00:00:00</td>\n",
        "      <td> REGULAR</td>\n",
        "      <td> 3144312</td>\n",
        "      <td> 1088151</td>\n",
        "      <td> NaN</td>\n",
        "      <td>     NaN</td>\n",
        "      <td> NaN</td>\n",
        "    </tr>\n",
        "    <tr>\n",
        "      <th>1 </th>\n",
        "      <td> A002</td>\n",
        "      <td> R051</td>\n",
        "      <td> 02-00-00</td>\n",
        "      <td> 05-01-11</td>\n",
        "      <td> 04:00:00</td>\n",
        "      <td> REGULAR</td>\n",
        "      <td> 3144335</td>\n",
        "      <td> 1088159</td>\n",
        "      <td>  23</td>\n",
        "      <td> 3144312</td>\n",
        "      <td>  23</td>\n",
        "    </tr>\n",
        "    <tr>\n",
        "      <th>2 </th>\n",
        "      <td> A002</td>\n",
        "      <td> R051</td>\n",
        "      <td> 02-00-00</td>\n",
        "      <td> 05-01-11</td>\n",
        "      <td> 08:00:00</td>\n",
        "      <td> REGULAR</td>\n",
        "      <td> 3144353</td>\n",
        "      <td> 1088177</td>\n",
        "      <td>  18</td>\n",
        "      <td> 3144335</td>\n",
        "      <td>  18</td>\n",
        "    </tr>\n",
        "    <tr>\n",
        "      <th>3 </th>\n",
        "      <td> A002</td>\n",
        "      <td> R051</td>\n",
        "      <td> 02-00-00</td>\n",
        "      <td> 05-01-11</td>\n",
        "      <td> 12:00:00</td>\n",
        "      <td> REGULAR</td>\n",
        "      <td> 3144424</td>\n",
        "      <td> 1088231</td>\n",
        "      <td>  71</td>\n",
        "      <td> 3144353</td>\n",
        "      <td>  71</td>\n",
        "    </tr>\n",
        "    <tr>\n",
        "      <th>4 </th>\n",
        "      <td> A002</td>\n",
        "      <td> R051</td>\n",
        "      <td> 02-00-00</td>\n",
        "      <td> 05-01-11</td>\n",
        "      <td> 16:00:00</td>\n",
        "      <td> REGULAR</td>\n",
        "      <td> 3144594</td>\n",
        "      <td> 1088275</td>\n",
        "      <td> 170</td>\n",
        "      <td> 3144424</td>\n",
        "      <td> 170</td>\n",
        "    </tr>\n",
        "    <tr>\n",
        "      <th>5 </th>\n",
        "      <td> A002</td>\n",
        "      <td> R051</td>\n",
        "      <td> 02-00-00</td>\n",
        "      <td> 05-01-11</td>\n",
        "      <td> 20:00:00</td>\n",
        "      <td> REGULAR</td>\n",
        "      <td> 3144808</td>\n",
        "      <td> 1088317</td>\n",
        "      <td> 214</td>\n",
        "      <td> 3144594</td>\n",
        "      <td> 214</td>\n",
        "    </tr>\n",
        "    <tr>\n",
        "      <th>6 </th>\n",
        "      <td> A002</td>\n",
        "      <td> R051</td>\n",
        "      <td> 02-00-00</td>\n",
        "      <td> 05-02-11</td>\n",
        "      <td> 00:00:00</td>\n",
        "      <td> REGULAR</td>\n",
        "      <td> 3144895</td>\n",
        "      <td> 1088328</td>\n",
        "      <td>  87</td>\n",
        "      <td> 3144808</td>\n",
        "      <td>  87</td>\n",
        "    </tr>\n",
        "    <tr>\n",
        "      <th>7 </th>\n",
        "      <td> A002</td>\n",
        "      <td> R051</td>\n",
        "      <td> 02-00-00</td>\n",
        "      <td> 05-02-11</td>\n",
        "      <td> 04:00:00</td>\n",
        "      <td> REGULAR</td>\n",
        "      <td> 3144905</td>\n",
        "      <td> 1088331</td>\n",
        "      <td>  10</td>\n",
        "      <td> 3144895</td>\n",
        "      <td>  10</td>\n",
        "    </tr>\n",
        "    <tr>\n",
        "      <th>8 </th>\n",
        "      <td> A002</td>\n",
        "      <td> R051</td>\n",
        "      <td> 02-00-00</td>\n",
        "      <td> 05-02-11</td>\n",
        "      <td> 08:00:00</td>\n",
        "      <td> REGULAR</td>\n",
        "      <td> 3144941</td>\n",
        "      <td> 1088420</td>\n",
        "      <td>  36</td>\n",
        "      <td> 3144905</td>\n",
        "      <td>  36</td>\n",
        "    </tr>\n",
        "    <tr>\n",
        "      <th>9 </th>\n",
        "      <td> A002</td>\n",
        "      <td> R051</td>\n",
        "      <td> 02-00-00</td>\n",
        "      <td> 05-02-11</td>\n",
        "      <td> 12:00:00</td>\n",
        "      <td> REGULAR</td>\n",
        "      <td> 3145094</td>\n",
        "      <td> 1088753</td>\n",
        "      <td> 153</td>\n",
        "      <td> 3144941</td>\n",
        "      <td> 153</td>\n",
        "    </tr>\n",
        "    <tr>\n",
        "      <th>10</th>\n",
        "      <td> A002</td>\n",
        "      <td> R051</td>\n",
        "      <td> 02-00-00</td>\n",
        "      <td> 05-02-11</td>\n",
        "      <td> 16:00:00</td>\n",
        "      <td> REGULAR</td>\n",
        "      <td> 3145337</td>\n",
        "      <td> 1088823</td>\n",
        "      <td> 243</td>\n",
        "      <td> 3145094</td>\n",
        "      <td> 243</td>\n",
        "    </tr>\n",
        "  </tbody>\n",
        "</table>\n",
        "</div>"
       ],
       "metadata": {},
       "output_type": "pyout",
       "prompt_number": 228,
       "text": [
        "     C/A  UNIT       SCP     DATEn     TIMEn    DESCn  ENTRIESn   EXITSn  \\\n",
        "0   A002  R051  02-00-00  05-01-11  00:00:00  REGULAR   3144312  1088151   \n",
        "1   A002  R051  02-00-00  05-01-11  04:00:00  REGULAR   3144335  1088159   \n",
        "2   A002  R051  02-00-00  05-01-11  08:00:00  REGULAR   3144353  1088177   \n",
        "3   A002  R051  02-00-00  05-01-11  12:00:00  REGULAR   3144424  1088231   \n",
        "4   A002  R051  02-00-00  05-01-11  16:00:00  REGULAR   3144594  1088275   \n",
        "5   A002  R051  02-00-00  05-01-11  20:00:00  REGULAR   3144808  1088317   \n",
        "6   A002  R051  02-00-00  05-02-11  00:00:00  REGULAR   3144895  1088328   \n",
        "7   A002  R051  02-00-00  05-02-11  04:00:00  REGULAR   3144905  1088331   \n",
        "8   A002  R051  02-00-00  05-02-11  08:00:00  REGULAR   3144941  1088420   \n",
        "9   A002  R051  02-00-00  05-02-11  12:00:00  REGULAR   3145094  1088753   \n",
        "10  A002  R051  02-00-00  05-02-11  16:00:00  REGULAR   3145337  1088823   \n",
        "\n",
        "    ENTRIESn_hourly     test  ENTRIES2n_hourly  \n",
        "0               NaN      NaN               NaN  \n",
        "1                23  3144312                23  \n",
        "2                18  3144335                18  \n",
        "3                71  3144353                71  \n",
        "4               170  3144424               170  \n",
        "5               214  3144594               214  \n",
        "6                87  3144808                87  \n",
        "7                10  3144895                10  \n",
        "8                36  3144905                36  \n",
        "9               153  3144941               153  \n",
        "10              243  3145094               243  "
       ]
      }
     ],
     "prompt_number": 228
    },
    {
     "cell_type": "code",
     "collapsed": false,
     "input": [
      "t = \"00:00:00\"\n",
      "\n",
      "hour = t.split(':')[0]\n",
      "if hour[0] == '0':\n",
      "    print hour[1]\n",
      "print hour"
     ],
     "language": "python",
     "metadata": {},
     "outputs": [],
     "prompt_number": 233
    },
    {
     "cell_type": "code",
     "collapsed": false,
     "input": [
      "l[0]"
     ],
     "language": "python",
     "metadata": {},
     "outputs": [
      {
       "metadata": {},
       "output_type": "pyout",
       "prompt_number": 231,
       "text": [
        "'0'"
       ]
      }
     ],
     "prompt_number": 231
    },
    {
     "cell_type": "code",
     "collapsed": false,
     "input": [],
     "language": "python",
     "metadata": {},
     "outputs": []
    }
   ],
   "metadata": {}
  }
 ]
}