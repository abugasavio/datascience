{
 "metadata": {
  "name": "",
  "signature": "sha256:d0e2bc329596cad1daa92023533497cc35588914ed86862be0e51188c490bc2b"
 },
 "nbformat": 3,
 "nbformat_minor": 0,
 "worksheets": [
  {
   "cells": [
    {
     "cell_type": "markdown",
     "metadata": {},
     "source": [
      "Thanks to http://www.gregreda.com/2013/10/26/intro-to-pandas-data-structures/"
     ]
    },
    {
     "cell_type": "heading",
     "level": 1,
     "metadata": {},
     "source": [
      "Requirements"
     ]
    },
    {
     "cell_type": "code",
     "collapsed": false,
     "input": [
      "import pandas as pd\n",
      "import numpy as np\n",
      "import matplotlib.pyplot as plt\n",
      "pd.set_option('max_columns', 50)"
     ],
     "language": "python",
     "metadata": {},
     "outputs": [],
     "prompt_number": 5
    },
    {
     "cell_type": "heading",
     "level": 1,
     "metadata": {},
     "source": [
      "Series"
     ]
    },
    {
     "cell_type": "code",
     "collapsed": false,
     "input": [
      "# Creating a pandas series\n",
      "s = pd.Series([7, 'Heisenberg', 3.14, -1789710578, 'Happy Eating!'])\n",
      "s"
     ],
     "language": "python",
     "metadata": {
      "slideshow": {
       "slide_type": "-"
      }
     },
     "outputs": [
      {
       "metadata": {},
       "output_type": "pyout",
       "prompt_number": 7,
       "text": [
        "0                7\n",
        "1       Heisenberg\n",
        "2             3.14\n",
        "3      -1789710578\n",
        "4    Happy Eating!\n",
        "dtype: object"
       ]
      }
     ],
     "prompt_number": 7
    },
    {
     "cell_type": "code",
     "collapsed": false,
     "input": [
      "# You can specify the index\n",
      "s = pd.Series([7, 'Heisenberg', 3.14, -1789710578, 'Happy Eating!'], ['A', 'B', 'C', 'D', 'E'])\n",
      "s"
     ],
     "language": "python",
     "metadata": {},
     "outputs": [
      {
       "metadata": {},
       "output_type": "pyout",
       "prompt_number": 8,
       "text": [
        "A                7\n",
        "B       Heisenberg\n",
        "C             3.14\n",
        "D      -1789710578\n",
        "E    Happy Eating!\n",
        "dtype: object"
       ]
      }
     ],
     "prompt_number": 8
    },
    {
     "cell_type": "code",
     "collapsed": false,
     "input": [
      "# You could also use python dict\n",
      "my_details = pd.Series({'firstname': 'Savio', 'lastname': 'Abuga', 'age': 90})\n",
      "my_details"
     ],
     "language": "python",
     "metadata": {},
     "outputs": [
      {
       "metadata": {},
       "output_type": "pyout",
       "prompt_number": 10,
       "text": [
        "age             90\n",
        "firstname    Savio\n",
        "lastname     Abuga\n",
        "dtype: object"
       ]
      }
     ],
     "prompt_number": 10
    },
    {
     "cell_type": "code",
     "collapsed": false,
     "input": [
      "# Selecting data\n",
      "my_details['age']"
     ],
     "language": "python",
     "metadata": {},
     "outputs": [
      {
       "metadata": {},
       "output_type": "pyout",
       "prompt_number": 11,
       "text": [
        "90"
       ]
      }
     ],
     "prompt_number": 11
    },
    {
     "cell_type": "code",
     "collapsed": false,
     "input": [
      "my_details[['age', 'firstname']]"
     ],
     "language": "python",
     "metadata": {},
     "outputs": [
      {
       "metadata": {},
       "output_type": "pyout",
       "prompt_number": 13,
       "text": [
        "age             90\n",
        "firstname    Savio\n",
        "dtype: object"
       ]
      }
     ],
     "prompt_number": 13
    },
    {
     "cell_type": "code",
     "collapsed": false,
     "input": [
      "d = {'Chicago': 1000, 'New York': 1300, 'Portland': 900, 'San Francisco': 1100,\n",
      "     'Austin': 450, 'Boston': None}\n",
      "cities = pd.Series(d)\n",
      "cities"
     ],
     "language": "python",
     "metadata": {},
     "outputs": [
      {
       "metadata": {},
       "output_type": "pyout",
       "prompt_number": 14,
       "text": [
        "Austin            450\n",
        "Boston            NaN\n",
        "Chicago          1000\n",
        "New York         1300\n",
        "Portland          900\n",
        "San Francisco    1100\n",
        "dtype: float64"
       ]
      }
     ],
     "prompt_number": 14
    },
    {
     "cell_type": "code",
     "collapsed": false,
     "input": [
      "cities < 1000"
     ],
     "language": "python",
     "metadata": {},
     "outputs": [
      {
       "metadata": {},
       "output_type": "pyout",
       "prompt_number": 15,
       "text": [
        "Austin            True\n",
        "Boston           False\n",
        "Chicago          False\n",
        "New York         False\n",
        "Portland          True\n",
        "San Francisco    False\n",
        "dtype: bool"
       ]
      }
     ],
     "prompt_number": 15
    },
    {
     "cell_type": "code",
     "collapsed": false,
     "input": [
      "cities[cities<1000]"
     ],
     "language": "python",
     "metadata": {},
     "outputs": [
      {
       "metadata": {},
       "output_type": "pyout",
       "prompt_number": 16,
       "text": [
        "Austin      450\n",
        "Portland    900\n",
        "dtype: float64"
       ]
      }
     ],
     "prompt_number": 16
    },
    {
     "cell_type": "code",
     "collapsed": false,
     "input": [
      "'Kisii' in cities"
     ],
     "language": "python",
     "metadata": {},
     "outputs": [
      {
       "metadata": {},
       "output_type": "pyout",
       "prompt_number": 17,
       "text": [
        "False"
       ]
      }
     ],
     "prompt_number": 17
    },
    {
     "cell_type": "code",
     "collapsed": false,
     "input": [
      "'Austin' in cities"
     ],
     "language": "python",
     "metadata": {},
     "outputs": [
      {
       "metadata": {},
       "output_type": "pyout",
       "prompt_number": 22,
       "text": [
        "True"
       ]
      }
     ],
     "prompt_number": 22
    },
    {
     "cell_type": "code",
     "collapsed": false,
     "input": [
      "cities * 3"
     ],
     "language": "python",
     "metadata": {},
     "outputs": [
      {
       "metadata": {},
       "output_type": "pyout",
       "prompt_number": 23,
       "text": [
        "Austin           1350\n",
        "Boston            NaN\n",
        "Chicago          3000\n",
        "New York         3900\n",
        "Portland         2700\n",
        "San Francisco    3300\n",
        "dtype: float64"
       ]
      }
     ],
     "prompt_number": 23
    },
    {
     "cell_type": "code",
     "collapsed": false,
     "input": [
      "cities / 3"
     ],
     "language": "python",
     "metadata": {},
     "outputs": [
      {
       "metadata": {},
       "output_type": "pyout",
       "prompt_number": 24,
       "text": [
        "Austin           150.000000\n",
        "Boston                  NaN\n",
        "Chicago          333.333333\n",
        "New York         433.333333\n",
        "Portland         300.000000\n",
        "San Francisco    366.666667\n",
        "dtype: float64"
       ]
      }
     ],
     "prompt_number": 24
    },
    {
     "cell_type": "code",
     "collapsed": false,
     "input": [
      "np.square(cities)"
     ],
     "language": "python",
     "metadata": {},
     "outputs": [
      {
       "metadata": {},
       "output_type": "pyout",
       "prompt_number": 25,
       "text": [
        "Austin            202500\n",
        "Boston               NaN\n",
        "Chicago          1000000\n",
        "New York         1690000\n",
        "Portland          810000\n",
        "San Francisco    1210000\n",
        "dtype: float64"
       ]
      }
     ],
     "prompt_number": 25
    },
    {
     "cell_type": "markdown",
     "metadata": {},
     "source": [
      "<p>You can add two Series together, which returns a union of the two Series with the addition occurring on the shared index values. Values on either Series that did not have a shared index will produce a NULL/NaN (not a number).</p>"
     ]
    },
    {
     "cell_type": "code",
     "collapsed": false,
     "input": [
      "print cities[['Chicago', 'Boston', 'New York']]\n",
      "print '\\n'\n",
      "print cities[['Portland', 'New York', 'San Francisco']]\n",
      "print '\\n'\n",
      "print cities[['Chicago', 'Boston', 'New York']] + cities[['Portland', 'New York', 'San Francisco']]"
     ],
     "language": "python",
     "metadata": {},
     "outputs": [
      {
       "output_type": "stream",
       "stream": "stdout",
       "text": [
        "Chicago     1000\n",
        "Boston       NaN\n",
        "New York    1300\n",
        "dtype: float64\n",
        "\n",
        "\n",
        "Portland          900\n",
        "New York         1300\n",
        "San Francisco    1100\n",
        "dtype: float64\n",
        "\n",
        "\n",
        "Boston            NaN\n",
        "Chicago           NaN\n",
        "New York         2600\n",
        "Portland          NaN\n",
        "San Francisco     NaN\n",
        "dtype: float64\n"
       ]
      }
     ],
     "prompt_number": 28
    },
    {
     "cell_type": "markdown",
     "metadata": {},
     "source": [
      "Notice that because Austin, Chicago, and Portland were not found in both Series, they were returned with NULL/NaN values."
     ]
    },
    {
     "cell_type": "heading",
     "level": 2,
     "metadata": {},
     "source": [
      "NULL checking can be performed with isnull and notnull."
     ]
    },
    {
     "cell_type": "code",
     "collapsed": false,
     "input": [
      "# returns a boolean series indicating which values aren't NULL\n",
      "cities.notnull()"
     ],
     "language": "python",
     "metadata": {},
     "outputs": [
      {
       "metadata": {},
       "output_type": "pyout",
       "prompt_number": 30,
       "text": [
        "Austin            True\n",
        "Boston           False\n",
        "Chicago           True\n",
        "New York          True\n",
        "Portland          True\n",
        "San Francisco     True\n",
        "dtype: bool"
       ]
      }
     ],
     "prompt_number": 30
    },
    {
     "cell_type": "code",
     "collapsed": false,
     "input": [
      "cities[cities.notnull()]"
     ],
     "language": "python",
     "metadata": {},
     "outputs": [
      {
       "metadata": {},
       "output_type": "pyout",
       "prompt_number": 31,
       "text": [
        "Austin            450\n",
        "Chicago          1000\n",
        "New York         1300\n",
        "Portland          900\n",
        "San Francisco    1100\n",
        "dtype: float64"
       ]
      }
     ],
     "prompt_number": 31
    },
    {
     "cell_type": "heading",
     "level": 1,
     "metadata": {},
     "source": [
      "DataFrame"
     ]
    },
    {
     "cell_type": "code",
     "collapsed": false,
     "input": [],
     "language": "python",
     "metadata": {},
     "outputs": []
    }
   ],
   "metadata": {}
  }
 ]
}