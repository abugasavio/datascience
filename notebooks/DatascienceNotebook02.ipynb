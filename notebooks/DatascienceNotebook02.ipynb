{
 "metadata": {
  "name": "",
  "signature": "sha256:29bc39cdd85fe3a965c848a9e406971c1ff945d94b6432955be840faaa20600e"
 },
 "nbformat": 3,
 "nbformat_minor": 0,
 "worksheets": [
  {
   "cells": [
    {
     "cell_type": "markdown",
     "metadata": {},
     "source": [
      "Thanks to http://www.gregreda.com/2013/10/26/intro-to-pandas-data-structures/"
     ]
    },
    {
     "cell_type": "heading",
     "level": 1,
     "metadata": {},
     "source": [
      "Requirements"
     ]
    },
    {
     "cell_type": "code",
     "collapsed": false,
     "input": [
      "import pandas as pd\n",
      "import numpy as np\n",
      "import matplotlib.pyplot as plt\n",
      "pd.set_option('max_columns', 50)"
     ],
     "language": "python",
     "metadata": {},
     "outputs": [],
     "prompt_number": 2
    },
    {
     "cell_type": "heading",
     "level": 1,
     "metadata": {},
     "source": [
      "Series"
     ]
    },
    {
     "cell_type": "code",
     "collapsed": false,
     "input": [
      "# Creating a pandas series\n",
      "s = pd.Series([7, 'Heisenberg', 3.14, -1789710578, 'Happy Eating!'])\n",
      "s"
     ],
     "language": "python",
     "metadata": {
      "slideshow": {
       "slide_type": "-"
      }
     },
     "outputs": [
      {
       "metadata": {},
       "output_type": "pyout",
       "prompt_number": 7,
       "text": [
        "0                7\n",
        "1       Heisenberg\n",
        "2             3.14\n",
        "3      -1789710578\n",
        "4    Happy Eating!\n",
        "dtype: object"
       ]
      }
     ],
     "prompt_number": 7
    },
    {
     "cell_type": "code",
     "collapsed": false,
     "input": [
      "# You can specify the index\n",
      "s = pd.Series([7, 'Heisenberg', 3.14, -1789710578, 'Happy Eating!'], ['A', 'B', 'C', 'D', 'E'])\n",
      "s"
     ],
     "language": "python",
     "metadata": {},
     "outputs": [
      {
       "metadata": {},
       "output_type": "pyout",
       "prompt_number": 8,
       "text": [
        "A                7\n",
        "B       Heisenberg\n",
        "C             3.14\n",
        "D      -1789710578\n",
        "E    Happy Eating!\n",
        "dtype: object"
       ]
      }
     ],
     "prompt_number": 8
    },
    {
     "cell_type": "code",
     "collapsed": false,
     "input": [
      "# You could also use python dict\n",
      "my_details = pd.Series({'firstname': 'Savio', 'lastname': 'Abuga', 'age': 90})\n",
      "my_details"
     ],
     "language": "python",
     "metadata": {},
     "outputs": [
      {
       "metadata": {},
       "output_type": "pyout",
       "prompt_number": 10,
       "text": [
        "age             90\n",
        "firstname    Savio\n",
        "lastname     Abuga\n",
        "dtype: object"
       ]
      }
     ],
     "prompt_number": 10
    },
    {
     "cell_type": "code",
     "collapsed": false,
     "input": [
      "# Selecting data\n",
      "my_details['age']"
     ],
     "language": "python",
     "metadata": {},
     "outputs": [
      {
       "metadata": {},
       "output_type": "pyout",
       "prompt_number": 11,
       "text": [
        "90"
       ]
      }
     ],
     "prompt_number": 11
    },
    {
     "cell_type": "code",
     "collapsed": false,
     "input": [
      "my_details[['age', 'firstname']]"
     ],
     "language": "python",
     "metadata": {},
     "outputs": [
      {
       "metadata": {},
       "output_type": "pyout",
       "prompt_number": 13,
       "text": [
        "age             90\n",
        "firstname    Savio\n",
        "dtype: object"
       ]
      }
     ],
     "prompt_number": 13
    },
    {
     "cell_type": "code",
     "collapsed": false,
     "input": [
      "d = {'Chicago': 1000, 'New York': 1300, 'Portland': 900, 'San Francisco': 1100,\n",
      "     'Austin': 450, 'Boston': None}\n",
      "cities = pd.Series(d)\n",
      "cities"
     ],
     "language": "python",
     "metadata": {},
     "outputs": [
      {
       "metadata": {},
       "output_type": "pyout",
       "prompt_number": 14,
       "text": [
        "Austin            450\n",
        "Boston            NaN\n",
        "Chicago          1000\n",
        "New York         1300\n",
        "Portland          900\n",
        "San Francisco    1100\n",
        "dtype: float64"
       ]
      }
     ],
     "prompt_number": 14
    },
    {
     "cell_type": "code",
     "collapsed": false,
     "input": [
      "cities < 1000"
     ],
     "language": "python",
     "metadata": {},
     "outputs": [
      {
       "metadata": {},
       "output_type": "pyout",
       "prompt_number": 15,
       "text": [
        "Austin            True\n",
        "Boston           False\n",
        "Chicago          False\n",
        "New York         False\n",
        "Portland          True\n",
        "San Francisco    False\n",
        "dtype: bool"
       ]
      }
     ],
     "prompt_number": 15
    },
    {
     "cell_type": "code",
     "collapsed": false,
     "input": [
      "cities[cities<1000]"
     ],
     "language": "python",
     "metadata": {},
     "outputs": [
      {
       "metadata": {},
       "output_type": "pyout",
       "prompt_number": 16,
       "text": [
        "Austin      450\n",
        "Portland    900\n",
        "dtype: float64"
       ]
      }
     ],
     "prompt_number": 16
    },
    {
     "cell_type": "code",
     "collapsed": false,
     "input": [
      "'Kisii' in cities"
     ],
     "language": "python",
     "metadata": {},
     "outputs": [
      {
       "metadata": {},
       "output_type": "pyout",
       "prompt_number": 17,
       "text": [
        "False"
       ]
      }
     ],
     "prompt_number": 17
    },
    {
     "cell_type": "code",
     "collapsed": false,
     "input": [
      "'Austin' in cities"
     ],
     "language": "python",
     "metadata": {},
     "outputs": [
      {
       "metadata": {},
       "output_type": "pyout",
       "prompt_number": 22,
       "text": [
        "True"
       ]
      }
     ],
     "prompt_number": 22
    },
    {
     "cell_type": "code",
     "collapsed": false,
     "input": [
      "cities * 3"
     ],
     "language": "python",
     "metadata": {},
     "outputs": [
      {
       "metadata": {},
       "output_type": "pyout",
       "prompt_number": 23,
       "text": [
        "Austin           1350\n",
        "Boston            NaN\n",
        "Chicago          3000\n",
        "New York         3900\n",
        "Portland         2700\n",
        "San Francisco    3300\n",
        "dtype: float64"
       ]
      }
     ],
     "prompt_number": 23
    },
    {
     "cell_type": "code",
     "collapsed": false,
     "input": [
      "cities / 3"
     ],
     "language": "python",
     "metadata": {},
     "outputs": [
      {
       "metadata": {},
       "output_type": "pyout",
       "prompt_number": 24,
       "text": [
        "Austin           150.000000\n",
        "Boston                  NaN\n",
        "Chicago          333.333333\n",
        "New York         433.333333\n",
        "Portland         300.000000\n",
        "San Francisco    366.666667\n",
        "dtype: float64"
       ]
      }
     ],
     "prompt_number": 24
    },
    {
     "cell_type": "code",
     "collapsed": false,
     "input": [
      "np.square(cities)"
     ],
     "language": "python",
     "metadata": {},
     "outputs": [
      {
       "metadata": {},
       "output_type": "pyout",
       "prompt_number": 25,
       "text": [
        "Austin            202500\n",
        "Boston               NaN\n",
        "Chicago          1000000\n",
        "New York         1690000\n",
        "Portland          810000\n",
        "San Francisco    1210000\n",
        "dtype: float64"
       ]
      }
     ],
     "prompt_number": 25
    },
    {
     "cell_type": "markdown",
     "metadata": {},
     "source": [
      "<p>You can add two Series together, which returns a union of the two Series with the addition occurring on the shared index values. Values on either Series that did not have a shared index will produce a NULL/NaN (not a number).</p>"
     ]
    },
    {
     "cell_type": "code",
     "collapsed": false,
     "input": [
      "print cities[['Chicago', 'Boston', 'New York']]\n",
      "print '\\n'\n",
      "print cities[['Portland', 'New York', 'San Francisco']]\n",
      "print '\\n'\n",
      "print cities[['Chicago', 'Boston', 'New York']] + cities[['Portland', 'New York', 'San Francisco']]"
     ],
     "language": "python",
     "metadata": {},
     "outputs": [
      {
       "output_type": "stream",
       "stream": "stdout",
       "text": [
        "Chicago     1000\n",
        "Boston       NaN\n",
        "New York    1300\n",
        "dtype: float64\n",
        "\n",
        "\n",
        "Portland          900\n",
        "New York         1300\n",
        "San Francisco    1100\n",
        "dtype: float64\n",
        "\n",
        "\n",
        "Boston            NaN\n",
        "Chicago           NaN\n",
        "New York         2600\n",
        "Portland          NaN\n",
        "San Francisco     NaN\n",
        "dtype: float64\n"
       ]
      }
     ],
     "prompt_number": 28
    },
    {
     "cell_type": "markdown",
     "metadata": {},
     "source": [
      "Notice that because Austin, Chicago, and Portland were not found in both Series, they were returned with NULL/NaN values."
     ]
    },
    {
     "cell_type": "heading",
     "level": 2,
     "metadata": {},
     "source": [
      "NULL checking can be performed with isnull and notnull."
     ]
    },
    {
     "cell_type": "code",
     "collapsed": false,
     "input": [
      "# returns a boolean series indicating which values aren't NULL\n",
      "cities.notnull()"
     ],
     "language": "python",
     "metadata": {},
     "outputs": [
      {
       "metadata": {},
       "output_type": "pyout",
       "prompt_number": 30,
       "text": [
        "Austin            True\n",
        "Boston           False\n",
        "Chicago           True\n",
        "New York          True\n",
        "Portland          True\n",
        "San Francisco     True\n",
        "dtype: bool"
       ]
      }
     ],
     "prompt_number": 30
    },
    {
     "cell_type": "code",
     "collapsed": false,
     "input": [
      "cities[cities.notnull()]"
     ],
     "language": "python",
     "metadata": {},
     "outputs": [
      {
       "metadata": {},
       "output_type": "pyout",
       "prompt_number": 31,
       "text": [
        "Austin            450\n",
        "Chicago          1000\n",
        "New York         1300\n",
        "Portland          900\n",
        "San Francisco    1100\n",
        "dtype: float64"
       ]
      }
     ],
     "prompt_number": 31
    },
    {
     "cell_type": "heading",
     "level": 1,
     "metadata": {},
     "source": [
      "DataFrame"
     ]
    },
    {
     "cell_type": "code",
     "collapsed": false,
     "input": [
      "from_csv = pd.read_csv(\"../data/mariano-rivera.csv\")"
     ],
     "language": "python",
     "metadata": {},
     "outputs": [],
     "prompt_number": 4
    },
    {
     "cell_type": "code",
     "collapsed": false,
     "input": [
      "from_csv.head()"
     ],
     "language": "python",
     "metadata": {},
     "outputs": [
      {
       "html": [
        "<div style=\"max-height:1000px;max-width:1500px;overflow:auto;\">\n",
        "<table border=\"1\" class=\"dataframe\">\n",
        "  <thead>\n",
        "    <tr style=\"text-align: right;\">\n",
        "      <th></th>\n",
        "      <th>Year</th>\n",
        "      <th>Age</th>\n",
        "      <th>Tm</th>\n",
        "      <th>Lg</th>\n",
        "      <th>W</th>\n",
        "      <th>L</th>\n",
        "      <th>W-L%</th>\n",
        "      <th>ERA</th>\n",
        "      <th>G</th>\n",
        "      <th>GS</th>\n",
        "      <th>GF</th>\n",
        "      <th>CG</th>\n",
        "      <th>SHO</th>\n",
        "      <th>SV</th>\n",
        "      <th>IP</th>\n",
        "      <th>H</th>\n",
        "      <th>R</th>\n",
        "      <th>ER</th>\n",
        "      <th>HR</th>\n",
        "      <th>BB</th>\n",
        "      <th>IBB</th>\n",
        "      <th>SO</th>\n",
        "      <th>HBP</th>\n",
        "      <th>BK</th>\n",
        "      <th>WP</th>\n",
        "      <th>BF</th>\n",
        "      <th>ERA+</th>\n",
        "      <th>WHIP</th>\n",
        "      <th>H/9</th>\n",
        "      <th>HR/9</th>\n",
        "      <th>BB/9</th>\n",
        "      <th>SO/9</th>\n",
        "      <th>SO/BB</th>\n",
        "      <th>Awards</th>\n",
        "    </tr>\n",
        "  </thead>\n",
        "  <tbody>\n",
        "    <tr>\n",
        "      <th>0</th>\n",
        "      <td> 1995</td>\n",
        "      <td> 25</td>\n",
        "      <td> NYY</td>\n",
        "      <td> AL</td>\n",
        "      <td> 5</td>\n",
        "      <td> 3</td>\n",
        "      <td> 0.625</td>\n",
        "      <td> 5.51</td>\n",
        "      <td> 19</td>\n",
        "      <td> 10</td>\n",
        "      <td>  2</td>\n",
        "      <td> 0</td>\n",
        "      <td> 0</td>\n",
        "      <td>  0</td>\n",
        "      <td>  67.0</td>\n",
        "      <td> 71</td>\n",
        "      <td> 43</td>\n",
        "      <td> 41</td>\n",
        "      <td> 11</td>\n",
        "      <td> 30</td>\n",
        "      <td> 0</td>\n",
        "      <td>  51</td>\n",
        "      <td> 2</td>\n",
        "      <td> 1</td>\n",
        "      <td> 0</td>\n",
        "      <td> 301</td>\n",
        "      <td>  84</td>\n",
        "      <td> 1.507</td>\n",
        "      <td> 9.5</td>\n",
        "      <td> 1.5</td>\n",
        "      <td> 4.0</td>\n",
        "      <td>  6.9</td>\n",
        "      <td> 1.70</td>\n",
        "      <td>           NaN</td>\n",
        "    </tr>\n",
        "    <tr>\n",
        "      <th>1</th>\n",
        "      <td> 1996</td>\n",
        "      <td> 26</td>\n",
        "      <td> NYY</td>\n",
        "      <td> AL</td>\n",
        "      <td> 8</td>\n",
        "      <td> 3</td>\n",
        "      <td> 0.727</td>\n",
        "      <td> 2.09</td>\n",
        "      <td> 61</td>\n",
        "      <td>  0</td>\n",
        "      <td> 14</td>\n",
        "      <td> 0</td>\n",
        "      <td> 0</td>\n",
        "      <td>  5</td>\n",
        "      <td> 107.2</td>\n",
        "      <td> 73</td>\n",
        "      <td> 25</td>\n",
        "      <td> 25</td>\n",
        "      <td>  1</td>\n",
        "      <td> 34</td>\n",
        "      <td> 3</td>\n",
        "      <td> 130</td>\n",
        "      <td> 2</td>\n",
        "      <td> 0</td>\n",
        "      <td> 1</td>\n",
        "      <td> 425</td>\n",
        "      <td> 240</td>\n",
        "      <td> 0.994</td>\n",
        "      <td> 6.1</td>\n",
        "      <td> 0.1</td>\n",
        "      <td> 2.8</td>\n",
        "      <td> 10.9</td>\n",
        "      <td> 3.82</td>\n",
        "      <td>   CYA-3MVP-12</td>\n",
        "    </tr>\n",
        "    <tr>\n",
        "      <th>2</th>\n",
        "      <td> 1997</td>\n",
        "      <td> 27</td>\n",
        "      <td> NYY</td>\n",
        "      <td> AL</td>\n",
        "      <td> 6</td>\n",
        "      <td> 4</td>\n",
        "      <td> 0.600</td>\n",
        "      <td> 1.88</td>\n",
        "      <td> 66</td>\n",
        "      <td>  0</td>\n",
        "      <td> 56</td>\n",
        "      <td> 0</td>\n",
        "      <td> 0</td>\n",
        "      <td> 43</td>\n",
        "      <td>  71.2</td>\n",
        "      <td> 65</td>\n",
        "      <td> 17</td>\n",
        "      <td> 15</td>\n",
        "      <td>  5</td>\n",
        "      <td> 20</td>\n",
        "      <td> 6</td>\n",
        "      <td>  68</td>\n",
        "      <td> 0</td>\n",
        "      <td> 0</td>\n",
        "      <td> 2</td>\n",
        "      <td> 301</td>\n",
        "      <td> 239</td>\n",
        "      <td> 1.186</td>\n",
        "      <td> 8.2</td>\n",
        "      <td> 0.6</td>\n",
        "      <td> 2.5</td>\n",
        "      <td>  8.5</td>\n",
        "      <td> 3.40</td>\n",
        "      <td>      ASMVP-25</td>\n",
        "    </tr>\n",
        "    <tr>\n",
        "      <th>3</th>\n",
        "      <td> 1998</td>\n",
        "      <td> 28</td>\n",
        "      <td> NYY</td>\n",
        "      <td> AL</td>\n",
        "      <td> 3</td>\n",
        "      <td> 0</td>\n",
        "      <td> 1.000</td>\n",
        "      <td> 1.91</td>\n",
        "      <td> 54</td>\n",
        "      <td>  0</td>\n",
        "      <td> 49</td>\n",
        "      <td> 0</td>\n",
        "      <td> 0</td>\n",
        "      <td> 36</td>\n",
        "      <td>  61.1</td>\n",
        "      <td> 48</td>\n",
        "      <td> 13</td>\n",
        "      <td> 13</td>\n",
        "      <td>  3</td>\n",
        "      <td> 17</td>\n",
        "      <td> 1</td>\n",
        "      <td>  36</td>\n",
        "      <td> 1</td>\n",
        "      <td> 0</td>\n",
        "      <td> 0</td>\n",
        "      <td> 246</td>\n",
        "      <td> 233</td>\n",
        "      <td> 1.060</td>\n",
        "      <td> 7.0</td>\n",
        "      <td> 0.4</td>\n",
        "      <td> 2.5</td>\n",
        "      <td>  5.3</td>\n",
        "      <td> 2.12</td>\n",
        "      <td>           NaN</td>\n",
        "    </tr>\n",
        "    <tr>\n",
        "      <th>4</th>\n",
        "      <td> 1999</td>\n",
        "      <td> 29</td>\n",
        "      <td> NYY</td>\n",
        "      <td> AL</td>\n",
        "      <td> 4</td>\n",
        "      <td> 3</td>\n",
        "      <td> 0.571</td>\n",
        "      <td> 1.83</td>\n",
        "      <td> 66</td>\n",
        "      <td>  0</td>\n",
        "      <td> 63</td>\n",
        "      <td> 0</td>\n",
        "      <td> 0</td>\n",
        "      <td> 45</td>\n",
        "      <td>  69.0</td>\n",
        "      <td> 43</td>\n",
        "      <td> 15</td>\n",
        "      <td> 14</td>\n",
        "      <td>  2</td>\n",
        "      <td> 18</td>\n",
        "      <td> 3</td>\n",
        "      <td>  52</td>\n",
        "      <td> 3</td>\n",
        "      <td> 1</td>\n",
        "      <td> 2</td>\n",
        "      <td> 268</td>\n",
        "      <td> 257</td>\n",
        "      <td> 0.884</td>\n",
        "      <td> 5.6</td>\n",
        "      <td> 0.3</td>\n",
        "      <td> 2.3</td>\n",
        "      <td>  6.8</td>\n",
        "      <td> 2.89</td>\n",
        "      <td> ASCYA-3MVP-14</td>\n",
        "    </tr>\n",
        "  </tbody>\n",
        "</table>\n",
        "</div>"
       ],
       "metadata": {},
       "output_type": "pyout",
       "prompt_number": 6,
       "text": [
        "   Year  Age   Tm  Lg  W  L   W-L%   ERA   G  GS  GF  CG  SHO  SV     IP   H  \\\n",
        "0  1995   25  NYY  AL  5  3  0.625  5.51  19  10   2   0    0   0   67.0  71   \n",
        "1  1996   26  NYY  AL  8  3  0.727  2.09  61   0  14   0    0   5  107.2  73   \n",
        "2  1997   27  NYY  AL  6  4  0.600  1.88  66   0  56   0    0  43   71.2  65   \n",
        "3  1998   28  NYY  AL  3  0  1.000  1.91  54   0  49   0    0  36   61.1  48   \n",
        "4  1999   29  NYY  AL  4  3  0.571  1.83  66   0  63   0    0  45   69.0  43   \n",
        "\n",
        "    R  ER  HR  BB  IBB   SO  HBP  BK  WP   BF  ERA+   WHIP  H/9  HR/9  BB/9  \\\n",
        "0  43  41  11  30    0   51    2   1   0  301    84  1.507  9.5   1.5   4.0   \n",
        "1  25  25   1  34    3  130    2   0   1  425   240  0.994  6.1   0.1   2.8   \n",
        "2  17  15   5  20    6   68    0   0   2  301   239  1.186  8.2   0.6   2.5   \n",
        "3  13  13   3  17    1   36    1   0   0  246   233  1.060  7.0   0.4   2.5   \n",
        "4  15  14   2  18    3   52    3   1   2  268   257  0.884  5.6   0.3   2.3   \n",
        "\n",
        "   SO/9  SO/BB         Awards  \n",
        "0   6.9   1.70            NaN  \n",
        "1  10.9   3.82    CYA-3MVP-12  \n",
        "2   8.5   3.40       ASMVP-25  \n",
        "3   5.3   2.12            NaN  \n",
        "4   6.8   2.89  ASCYA-3MVP-14  "
       ]
      }
     ],
     "prompt_number": 6
    },
    {
     "cell_type": "markdown",
     "metadata": {},
     "source": [
      "Our file had headers, which the function inferred upon reading in the file. Had we wanted to be more explicit, we could have passed header=None to the function along with a list of column names to use:"
     ]
    },
    {
     "cell_type": "code",
     "collapsed": false,
     "input": [
      "# Source: pro-football-reference.com/players/M/MannPe00/touchdowns/passing/2012/\n",
      "!head -n 5 ../data/peyton-passing-TDs-2012.csv"
     ],
     "language": "python",
     "metadata": {},
     "outputs": [
      {
       "output_type": "stream",
       "stream": "stdout",
       "text": [
        "1,1,2012-09-09,DEN,,PIT,W 31-19,3,71,Demaryius Thomas,Trail 7-13,Lead 14-13*\r\n",
        "2,1,2012-09-09,DEN,,PIT,W 31-19,4,1,Jacob Tamme,Trail 14-19,Lead 22-19*\r\n",
        "3,2,2012-09-17,DEN,@,ATL,L 21-27,2,17,Demaryius Thomas,Trail 0-20,Trail 7-20\r\n",
        "4,3,2012-09-23,DEN,,HOU,L 25-31,4,38,Brandon Stokley,Trail 11-31,Trail 18-31\r\n",
        "5,3,2012-09-23,DEN,,HOU,L 25-31,4,6,Joel Dreessen,Trail 18-31,Trail 25-31\r\n"
       ]
      }
     ],
     "prompt_number": 9
    },
    {
     "cell_type": "code",
     "collapsed": false,
     "input": [
      "columns = ['num', 'game', 'date', 'team', 'home_away', 'opponent', 'result', 'quarter', 'distance', 'receiver', \n",
      "           'score_before', 'score_after']\n",
      "peyton_passing = pd.read_csv('../data/peyton-passing-TDs-2012.csv', sep=',', header=None, names=columns)\n",
      "peyton_passing.head()"
     ],
     "language": "python",
     "metadata": {},
     "outputs": [
      {
       "html": [
        "<div style=\"max-height:1000px;max-width:1500px;overflow:auto;\">\n",
        "<table border=\"1\" class=\"dataframe\">\n",
        "  <thead>\n",
        "    <tr style=\"text-align: right;\">\n",
        "      <th></th>\n",
        "      <th>num</th>\n",
        "      <th>game</th>\n",
        "      <th>date</th>\n",
        "      <th>team</th>\n",
        "      <th>home_away</th>\n",
        "      <th>opponent</th>\n",
        "      <th>result</th>\n",
        "      <th>quarter</th>\n",
        "      <th>distance</th>\n",
        "      <th>receiver</th>\n",
        "      <th>score_before</th>\n",
        "      <th>score_after</th>\n",
        "    </tr>\n",
        "  </thead>\n",
        "  <tbody>\n",
        "    <tr>\n",
        "      <th>0</th>\n",
        "      <td> 1</td>\n",
        "      <td> 1</td>\n",
        "      <td> 2012-09-09</td>\n",
        "      <td> DEN</td>\n",
        "      <td> NaN</td>\n",
        "      <td> PIT</td>\n",
        "      <td> W 31-19</td>\n",
        "      <td> 3</td>\n",
        "      <td> 71</td>\n",
        "      <td> Demaryius Thomas</td>\n",
        "      <td>  Trail 7-13</td>\n",
        "      <td> Lead 14-13*</td>\n",
        "    </tr>\n",
        "    <tr>\n",
        "      <th>1</th>\n",
        "      <td> 2</td>\n",
        "      <td> 1</td>\n",
        "      <td> 2012-09-09</td>\n",
        "      <td> DEN</td>\n",
        "      <td> NaN</td>\n",
        "      <td> PIT</td>\n",
        "      <td> W 31-19</td>\n",
        "      <td> 4</td>\n",
        "      <td>  1</td>\n",
        "      <td>      Jacob Tamme</td>\n",
        "      <td> Trail 14-19</td>\n",
        "      <td> Lead 22-19*</td>\n",
        "    </tr>\n",
        "    <tr>\n",
        "      <th>2</th>\n",
        "      <td> 3</td>\n",
        "      <td> 2</td>\n",
        "      <td> 2012-09-17</td>\n",
        "      <td> DEN</td>\n",
        "      <td>   @</td>\n",
        "      <td> ATL</td>\n",
        "      <td> L 21-27</td>\n",
        "      <td> 2</td>\n",
        "      <td> 17</td>\n",
        "      <td> Demaryius Thomas</td>\n",
        "      <td>  Trail 0-20</td>\n",
        "      <td>  Trail 7-20</td>\n",
        "    </tr>\n",
        "    <tr>\n",
        "      <th>3</th>\n",
        "      <td> 4</td>\n",
        "      <td> 3</td>\n",
        "      <td> 2012-09-23</td>\n",
        "      <td> DEN</td>\n",
        "      <td> NaN</td>\n",
        "      <td> HOU</td>\n",
        "      <td> L 25-31</td>\n",
        "      <td> 4</td>\n",
        "      <td> 38</td>\n",
        "      <td>  Brandon Stokley</td>\n",
        "      <td> Trail 11-31</td>\n",
        "      <td> Trail 18-31</td>\n",
        "    </tr>\n",
        "    <tr>\n",
        "      <th>4</th>\n",
        "      <td> 5</td>\n",
        "      <td> 3</td>\n",
        "      <td> 2012-09-23</td>\n",
        "      <td> DEN</td>\n",
        "      <td> NaN</td>\n",
        "      <td> HOU</td>\n",
        "      <td> L 25-31</td>\n",
        "      <td> 4</td>\n",
        "      <td>  6</td>\n",
        "      <td>    Joel Dreessen</td>\n",
        "      <td> Trail 18-31</td>\n",
        "      <td> Trail 25-31</td>\n",
        "    </tr>\n",
        "  </tbody>\n",
        "</table>\n",
        "</div>"
       ],
       "metadata": {},
       "output_type": "pyout",
       "prompt_number": 15,
       "text": [
        "   num  game        date team home_away opponent   result  quarter  distance  \\\n",
        "0    1     1  2012-09-09  DEN       NaN      PIT  W 31-19        3        71   \n",
        "1    2     1  2012-09-09  DEN       NaN      PIT  W 31-19        4         1   \n",
        "2    3     2  2012-09-17  DEN         @      ATL  L 21-27        2        17   \n",
        "3    4     3  2012-09-23  DEN       NaN      HOU  L 25-31        4        38   \n",
        "4    5     3  2012-09-23  DEN       NaN      HOU  L 25-31        4         6   \n",
        "\n",
        "           receiver score_before  score_after  \n",
        "0  Demaryius Thomas   Trail 7-13  Lead 14-13*  \n",
        "1       Jacob Tamme  Trail 14-19  Lead 22-19*  \n",
        "2  Demaryius Thomas   Trail 0-20   Trail 7-20  \n",
        "3   Brandon Stokley  Trail 11-31  Trail 18-31  \n",
        "4     Joel Dreessen  Trail 18-31  Trail 25-31  "
       ]
      }
     ],
     "prompt_number": 15
    },
    {
     "cell_type": "markdown",
     "metadata": {},
     "source": [
      "\n",
      "\n",
      "Pandas <i>reader</i> functions have many parameters which allow you do many operations such as skipping rows, replacing values,  parsing dates, etc.\n",
      "\n",
      "There are also <i>writer</i> functions for a variety of forms such as json, CSV, excel, etc.\n",
      "\n",
      "The <a href='http://pandas.pydata.org/pandas-docs/stable/io.html'>io documentation</a> has details.\n"
     ]
    },
    {
     "cell_type": "code",
     "collapsed": false,
     "input": [
      "data = {'year': [2010, 2011, 2012, 2011, 2012, 2010, 2011, 2012],\n",
      "        'team': ['Bears', 'Bears', 'Bears', 'Packers', 'Packers', 'Lions', 'Lions', 'Lions'],\n",
      "        'wins': [11, 8, 10, 15, 11, 6, 10, 4],\n",
      "        'losses': [5, 8, 6, 1, 5, 10, 6, 12]}\n",
      "football = pd.DataFrame(data, columns=['year', 'team', 'wins', 'losses'])\n",
      "print football"
     ],
     "language": "python",
     "metadata": {},
     "outputs": [
      {
       "output_type": "stream",
       "stream": "stdout",
       "text": [
        "   year     team  wins  losses\n",
        "0  2010    Bears    11       5\n",
        "1  2011    Bears     8       8\n",
        "2  2012    Bears    10       6\n",
        "3  2011  Packers    15       1\n",
        "4  2012  Packers    11       5\n",
        "5  2010    Lions     6      10\n",
        "6  2011    Lions    10       6\n",
        "7  2012    Lions     4      12\n"
       ]
      }
     ],
     "prompt_number": 3
    },
    {
     "cell_type": "code",
     "collapsed": false,
     "input": [
      "# since our index on the football DataFrame is meaningless, let's not write it\n",
      "football.to_excel('../data/football.xlsx', index=False)"
     ],
     "language": "python",
     "metadata": {},
     "outputs": [],
     "prompt_number": 6
    },
    {
     "cell_type": "code",
     "collapsed": false,
     "input": [
      "%ls ../data/"
     ],
     "language": "python",
     "metadata": {},
     "outputs": [
      {
       "output_type": "stream",
       "stream": "stdout",
       "text": [
        "city-of-chicago-salaries.csv  ml-100k.zip\r\n",
        "football.xlsx                 peyton-passing-TDs-2012.csv\r\n",
        "mariano-rivera.csv\r\n"
       ]
      }
     ],
     "prompt_number": 10
    },
    {
     "cell_type": "code",
     "collapsed": false,
     "input": [
      "# delete the DataFrame\n",
      "del football"
     ],
     "language": "python",
     "metadata": {},
     "outputs": [],
     "prompt_number": 11
    },
    {
     "cell_type": "code",
     "collapsed": false,
     "input": [
      "# read from Excel\n",
      "football = pd.read_excel('../data/football.xlsx')\n",
      "print football"
     ],
     "language": "python",
     "metadata": {},
     "outputs": [
      {
       "output_type": "stream",
       "stream": "stdout",
       "text": [
        "   year     team  wins  losses\n",
        "0  2010    Bears    11       5\n",
        "1  2011    Bears     8       8\n",
        "2  2012    Bears    10       6\n",
        "3  2011  Packers    15       1\n",
        "4  2012  Packers    11       5\n",
        "5  2010    Lions     6      10\n",
        "6  2011    Lions    10       6\n",
        "7  2012    Lions     4      12\n"
       ]
      }
     ],
     "prompt_number": 14
    },
    {
     "cell_type": "code",
     "collapsed": false,
     "input": [],
     "language": "python",
     "metadata": {},
     "outputs": []
    }
   ],
   "metadata": {}
  }
 ]
}